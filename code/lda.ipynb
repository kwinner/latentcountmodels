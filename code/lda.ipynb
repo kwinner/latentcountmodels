{
 "cells": [
  {
   "cell_type": "markdown",
   "metadata": {},
   "source": [
    "# PGF for LDA"
   ]
  },
  {
   "cell_type": "code",
   "execution_count": 1,
   "metadata": {
    "collapsed": true
   },
   "outputs": [],
   "source": [
    "import algopy\n",
    "import numpy as np\n",
    "from algopy import UTPM\n",
    "from scipy.stats import binom"
   ]
  },
  {
   "cell_type": "markdown",
   "metadata": {},
   "source": [
    "### Define dummy data"
   ]
  },
  {
   "cell_type": "code",
   "execution_count": 2,
   "metadata": {
    "collapsed": true
   },
   "outputs": [],
   "source": [
    "phi = np.array([[0.1, 0.8, 0.1], [0.5, 0.2, 0.3]]) # distribution over words\n",
    "theta = np.array([0.3, 0.7])                       # distribution over topics\n",
    "K, V = phi.shape      # K = number of topics, V = size of vocab\n",
    "N = 4                 # number of tokens in a document"
   ]
  },
  {
   "cell_type": "markdown",
   "metadata": {},
   "source": [
    "### True single-word marginals\n",
    "Let $Y_v$ be the count of word type $w_v$ in a document, where $v$ is the word index. Compute the true $P(Y_v = y_v)$ for $y_v = 0, 1, .., N$."
   ]
  },
  {
   "cell_type": "code",
   "execution_count": 3,
   "metadata": {
    "collapsed": false
   },
   "outputs": [],
   "source": [
    "p = theta.dot(phi).reshape(V, 1)\n",
    "x = [range(N + 1) for _ in range(V)]\n",
    "true_marginals = binom.pmf(x, N, p) # shape = (V, N + 1)"
   ]
  },
  {
   "cell_type": "markdown",
   "metadata": {},
   "source": [
    "### PGF single-word marginals"
   ]
  },
  {
   "cell_type": "code",
   "execution_count": 4,
   "metadata": {
    "collapsed": false
   },
   "outputs": [
    {
     "name": "stdout",
     "output_type": "stream",
     "text": [
      "PGF marginal: 0.13608256\n",
      "True marginal: 0.13608256\n"
     ]
    }
   ],
   "source": [
    "def pgf_marginal(v, y_v, phi, theta): # Compute P(Y_v = y_v) = P(count(w_v) = y_v)\n",
    "    D = y_v + 1\n",
    "    u_v = UTPM(np.zeros((D, 1)))\n",
    "    if D > 1:\n",
    "        u_v.data[1, 0] = 1\n",
    "        \n",
    "    u = algopy.ones(V, dtype=u_v)\n",
    "    u[v] = u_v\n",
    "    t = phi.dot(u)\n",
    "    s = theta.dot(t)\n",
    "    h = np.power(s, N)\n",
    "    return h.data[:, 0][y_v]\n",
    "\n",
    "# Oberve 3 tokens of word type w_0\n",
    "y_v, v = 3, 0\n",
    "print 'PGF marginal:', pgf_marginal(v, y_v, phi, theta)\n",
    "print 'True marginal:', true_marginals[0, 3]"
   ]
  },
  {
   "cell_type": "markdown",
   "metadata": {},
   "source": [
    "Observe a document of length $N$ with word counts $y = [y_0, ..., y_V]$, where $\\sum_{i=0}^V y_i = N$. Find the **single-word** marginal probabilities."
   ]
  },
  {
   "cell_type": "code",
   "execution_count": 5,
   "metadata": {
    "collapsed": false
   },
   "outputs": [
    {
     "name": "stdout",
     "output_type": "stream",
     "text": [
      "PGF marginals: [0.33304416000000003, 0.36225855999999979, 0.42141696000000001]\n",
      "True marginals: [ 0.33304416  0.36225856  0.42141696]\n"
     ]
    }
   ],
   "source": [
    "def pgf_marginals(y, phi, theta): # Compute [P(Y_0 = y[0]), ..., P(Y_V = y[V])]\n",
    "    D = np.max(y) + 1\n",
    "    u_v = UTPM(np.zeros((D, 1)))\n",
    "    if D > 1:\n",
    "        u_v.data[1, :] = 1\n",
    "    \n",
    "    u = algopy.ones((V, V), dtype=u_v)\n",
    "    np.fill_diagonal(u, u_v)\n",
    "    t = phi.dot(u)\n",
    "    s = theta.dot(t)\n",
    "    h = np.power(s, N)\n",
    "    return [h_v.data[:, 0][y[i]] for i, h_v in enumerate(h)]\n",
    "\n",
    "# Observe 2 tokens of w_0, 1 token of w_1, and 1 token of w_2\n",
    "y = np.array([2, 1, 1])\n",
    "print 'PGF marginals:', pgf_marginals(y, phi, theta)\n",
    "print 'True marginals:', true_marginals[np.arange(V), y]"
   ]
  },
  {
   "cell_type": "code",
   "execution_count": 6,
   "metadata": {
    "collapsed": false
   },
   "outputs": [
    {
     "name": "stdout",
     "output_type": "stream",
     "text": [
      "PGF marginals: [0.36225856000000001, 0.1477633599999999, 0.04202496]\n",
      "True marginals: [ 0.36225856  0.14776336  0.04202496]\n"
     ]
    }
   ],
   "source": [
    "# Observe 1 w_0, 0 w_1, and 3 w_2's\n",
    "y = np.array([1, 0, 3])\n",
    "print 'PGF marginals:', pgf_marginals(y, phi, theta)\n",
    "print 'True marginals:', true_marginals[np.arange(V), y]"
   ]
  },
  {
   "cell_type": "code",
   "execution_count": 7,
   "metadata": {
    "collapsed": false
   },
   "outputs": [
    {
     "name": "stdout",
     "output_type": "stream",
     "text": [
      "PGF marginals: [0.14776336000000001, 0.020851360000000003, 0.33362176000000004]\n",
      "True marginals: [ 0.14776336  0.02085136  0.33362176]\n"
     ]
    }
   ],
   "source": [
    "# Observe 0 w_0, 4 w_1's, and 0 w_2\n",
    "y = np.array([0, 4, 0])\n",
    "print 'PGF marginals:', pgf_marginals(y, phi, theta)\n",
    "print 'True marginals:', true_marginals[np.arange(V), y]"
   ]
  },
  {
   "cell_type": "markdown",
   "metadata": {
    "collapsed": true
   },
   "source": [
    "## With growth"
   ]
  },
  {
   "cell_type": "markdown",
   "metadata": {},
   "source": [
    "Add growth:\n",
    "- $n = $ number of tokens in the document (observed)\n",
    "- $m = \\sum_{i=1}^n x_i$, where $x_i \\sim log(\\rho)$\n",
    "- $\\mathbf{y} \\sim mult(m, \\boldsymbol{\\theta}^T \\mathbf{\\Phi})$"
   ]
  },
  {
   "cell_type": "code",
   "execution_count": 8,
   "metadata": {
    "collapsed": false
   },
   "outputs": [
    {
     "name": "stdout",
     "output_type": "stream",
     "text": [
      "PGF marginal: 0.184817410707\n"
     ]
    }
   ],
   "source": [
    "rho = 0.3 # growth parameter\n",
    "def pgf_marginal_growth(v, y_v, phi, theta, rho): # Compute P(Y_v = y_v) = P(count(w_v) = y_v)\n",
    "    D = y_v + 1\n",
    "    u_v = UTPM(np.zeros((D, 1)))\n",
    "    if D > 1:\n",
    "        u_v.data[1, 0] = 1\n",
    "        \n",
    "    u = algopy.ones(V, dtype=u_v)\n",
    "    u[v] = u_v\n",
    "    t = phi.dot(u)\n",
    "    s = theta.dot(t)\n",
    "    r = np.log(1 - rho*s) / np.log(1 - rho)\n",
    "    h = np.power(r, N)\n",
    "    return h.data[:, 0][y_v]\n",
    "\n",
    "# Oberve 3 tokens of word type w_0\n",
    "y_v, v = 3, 0\n",
    "print 'PGF marginal:', pgf_marginal_growth(v, y_v, phi, theta, rho)\n",
    "#print 'True marginal:', true_marginals[0, 3]"
   ]
  },
  {
   "cell_type": "code",
   "execution_count": 9,
   "metadata": {
    "collapsed": false
   },
   "outputs": [
    {
     "name": "stdout",
     "output_type": "stream",
     "text": [
      "PGF marginals: [0.18481741070659657, 0.30168515264769635, 0.399420387354113]\n"
     ]
    }
   ],
   "source": [
    "def pgf_marginals_growth(y, phi, theta, rho): # Compute [P(Y_0 = y[0]), ..., P(Y_V = y[V])]\n",
    "    D = np.max(y) + 1\n",
    "    u_v = UTPM(np.zeros((D, 1)))\n",
    "    if D > 1:\n",
    "        u_v.data[1, :] = 1\n",
    "    \n",
    "    u = algopy.ones((V, V), dtype=u_v)\n",
    "    np.fill_diagonal(u, u_v)\n",
    "    t = phi.dot(u)\n",
    "    s = theta.dot(t)\n",
    "    r = np.log(1 - rho*s) / np.log(1 - rho)\n",
    "    h = np.power(r, N)\n",
    "    return [h_v.data[:, 0][y[i]] for i, h_v in enumerate(h)]\n",
    "\n",
    "# Observe 3 tokens of w_0, 1 token of w_1, and 1 token of w_2\n",
    "y = np.array([3, 1, 1])\n",
    "print 'PGF marginals:', pgf_marginals_growth(y, phi, theta, rho)"
   ]
  },
  {
   "cell_type": "code",
   "execution_count": null,
   "metadata": {
    "collapsed": true
   },
   "outputs": [],
   "source": []
  }
 ],
 "metadata": {
  "anaconda-cloud": {},
  "kernelspec": {
   "display_name": "Python [Root]",
   "language": "python",
   "name": "Python [Root]"
  },
  "language_info": {
   "codemirror_mode": {
    "name": "ipython",
    "version": 2
   },
   "file_extension": ".py",
   "mimetype": "text/x-python",
   "name": "python",
   "nbconvert_exporter": "python",
   "pygments_lexer": "ipython2",
   "version": "2.7.12"
  }
 },
 "nbformat": 4,
 "nbformat_minor": 0
}
