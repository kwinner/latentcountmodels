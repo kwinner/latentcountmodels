{
 "cells": [
  {
   "cell_type": "code",
   "execution_count": null,
   "metadata": {
    "collapsed": false
   },
   "outputs": [],
   "source": [
    "import numpy\n",
    "import scipy\n",
    "import scipy.misc\n",
    "import scipy.io\n",
    "import algopy\n",
    "from algopy import UTPM\n",
    "\n",
    "import time"
   ]
  },
  {
   "cell_type": "markdown",
   "metadata": {},
   "source": [
    "### Utility functions"
   ]
  },
  {
   "cell_type": "code",
   "execution_count": null,
   "metadata": {
    "collapsed": false
   },
   "outputs": [],
   "source": [
    "# i!/(i-k)!\n",
    "def falling_factorial(k, i):\n",
    "    return scipy.special.poch(i - k + 1, k)\n",
    "\n",
    "def UTP_deriv(x, k):\n",
    "    n = len(x)\n",
    "    fact = falling_factorial(k, numpy.arange(n))\n",
    "    x = x * fact\n",
    "\n",
    "    # shift by k places\n",
    "    y = numpy.zeros(n-k)\n",
    "    y[:n-k] = x[k:]\n",
    "    \n",
    "    return y\n",
    "    \n",
    "x = numpy.array([1, 2, 3, 4])\n",
    "\n",
    "d  = UTP_deriv(x, 1)\n",
    "d2 = UTP_deriv(d, 1)\n",
    "\n",
    "d2_prime = UTP_deriv(x, 2)\n",
    "\n",
    "print d\n",
    "print d2\n",
    "print d2_prime"
   ]
  },
  {
   "cell_type": "markdown",
   "metadata": {},
   "source": [
    "UTP PGFFA\n",
    "=========\n",
    "\n",
    "### Defining data/loading data"
   ]
  },
  {
   "cell_type": "code",
   "execution_count": null,
   "metadata": {
    "collapsed": false
   },
   "outputs": [],
   "source": [
    "y = numpy.array([3,4,5])\n",
    "K = len(y)\n",
    "Y = sum(y)\n",
    "Lambda = numpy.array([8, 10, 12])\n",
    "Delta = numpy.array([0.6, 0.4])\n",
    "Rho = numpy.array([0.8, 0.8, 0.8])"
   ]
  },
  {
   "cell_type": "markdown",
   "metadata": {},
   "source": [
    "### Indeterminate Determination"
   ]
  },
  {
   "cell_type": "code",
   "execution_count": null,
   "metadata": {
    "collapsed": false
   },
   "outputs": [],
   "source": [
    "def UTP_Reverse(s_K, K, Rho, Delta):\n",
    "    S = numpy.zeros(K); S[K-1] = s_K\n",
    "    U = numpy.zeros(K)\n",
    "    V = numpy.zeros(K)\n",
    "    for k in range(K-1,-1,-1):\n",
    "        V[k] = S[k] * (1 - Rho[k])\n",
    "        U[k] = V[k]\n",
    "        if k > 0:\n",
    "            S[k-1] = Delta[k-1] * U[k] + 1 - Delta[k-1]\n",
    "            \n",
    "    return S, U, V\n",
    "        \n",
    "#test reverse mode\n",
    "S, U, V = UTP_Reverse(1, K, Rho, Delta)\n",
    "\n",
    "print \"S: \", S\n",
    "print \"U: \", U\n",
    "print \"V: \", V"
   ]
  },
  {
   "cell_type": "markdown",
   "metadata": {},
   "source": [
    "### UTP PGFFA"
   ]
  },
  {
   "cell_type": "code",
   "execution_count": null,
   "metadata": {
    "collapsed": false
   },
   "outputs": [],
   "source": [
    "def Gamma_UTP(Psi_k, lambda_k, V_k):\n",
    "    D = len(Psi_k.data)\n",
    "    \n",
    "    #setup the indeterminate variable\n",
    "    v_k = UTPM(numpy.zeros((D,1)))\n",
    "    v_k.data[0,0] = V_k\n",
    "    \n",
    "    if D > 1:\n",
    "        v_k.data[1,0] = 1\n",
    "    \n",
    "    Gamma_k = Psi_k * numpy.exp(lambda_k * (v_k - 1))\n",
    "    \n",
    "    return Gamma_k"
   ]
  },
  {
   "cell_type": "code",
   "execution_count": null,
   "metadata": {
    "collapsed": true
   },
   "outputs": [],
   "source": [
    "def Alpha_UTP(Gamma_k, rho_k, y_k, S_k):\n",
    "    D = len(Gamma_k.data)\n",
    "    D_prime = D - y_k\n",
    "    \n",
    "    #setup the indeterminate variable\n",
    "    s_k = UTPM(numpy.zeros((D_prime,1)))\n",
    "    s_k.data[0,0] = S_k\n",
    "    \n",
    "    if D_prime > 1:\n",
    "        s_k.data[1,0] = 1\n",
    "    \n",
    "    #initialize a dummy UTP for Alpha\n",
    "    Alpha_k = UTPM(numpy.zeros((D_prime,1)))\n",
    "    \n",
    "    Alpha_k.data[:,0] = UTP_deriv(Gamma_k.data[:,0], y_k)\n",
    "    \n",
    "    Alpha_k.data[:,0] = Alpha_k.data[:,0] * numpy.power(1 - rho_k, numpy.arange(D_prime))\n",
    "    \n",
    "    Alpha_k = Alpha_k * 1./scipy.misc.factorial(y_k) * numpy.power(s_k * rho_k, y_k)\n",
    "    \n",
    "    return Alpha_k"
   ]
  },
  {
   "cell_type": "code",
   "execution_count": null,
   "metadata": {
    "collapsed": true
   },
   "outputs": [],
   "source": [
    "#j subscript here is equivalent to k-1\n",
    "def Psi_UTP(Alpha_j, delta_j, U_k):\n",
    "    D = len(Alpha_j.data)\n",
    "    \n",
    "    #setup the indeterminate variable\n",
    "    u_k = UTPM(numpy.zeros((D,1)))\n",
    "    u_k.data[0,0] = U_k\n",
    "    \n",
    "    if D > 1:\n",
    "        u_k.data[1,0] = 1\n",
    "\n",
    "    #chain rule\n",
    "    Psi_k = Alpha_j.copy()\n",
    "    Psi_k.data[:,0] = Psi_k.data[:,0] * numpy.power(delta_j, numpy.arange(D))\n",
    "    \n",
    "    return Psi_k"
   ]
  },
  {
   "cell_type": "code",
   "execution_count": null,
   "metadata": {
    "collapsed": false
   },
   "outputs": [],
   "source": [
    "def UTP_PGFFA(y, Lambda, Delta, Rho, d=1):\n",
    "    assert d >= 1\n",
    "    \n",
    "    K = len(y)\n",
    "    Y = sum(y)\n",
    "    \n",
    "    S, U, V = UTP_Reverse(1, K, Rho, Delta)\n",
    "    \n",
    "    #allocate/wipe message storage\n",
    "    Gamma = [None] * K\n",
    "    Alpha = [None] * K\n",
    "    Psi   = [None] * K\n",
    "    \n",
    "    #initialize first Psi (survivor) message to 1\n",
    "    Psi[0] = UTPM(numpy.zeros((Y + d,1)))\n",
    "    Psi[0].data[0,0] = 1\n",
    "    \n",
    "    for k in range(0,K):\n",
    "        Gamma[k] = Gamma_UTP(Psi[k], Lambda[k], V[k])\n",
    "        \n",
    "        Alpha[k] = Alpha_UTP(Gamma[k], Rho[k], y[k], S[k])\n",
    "        \n",
    "        if k < K - 1:\n",
    "            Psi[k+1] = Psi_UTP(Alpha[k], Delta[k], U[k])\n",
    "    \n",
    "    return Alpha, Gamma, Psi\n",
    "\n",
    "Alpha, Gamma, Psi = UTP_PGFFA(y, Lambda, Delta, Rho)\n",
    "print Alpha[-1].data\n",
    "\n",
    "Alpha, Gamma, Psi = UTP_PGFFA(y, Lambda, Delta, Rho, d=3)\n",
    "print Alpha[-1].data"
   ]
  },
  {
   "cell_type": "code",
   "execution_count": null,
   "metadata": {
    "collapsed": false
   },
   "outputs": [],
   "source": [
    "def UTPPGF_mean(F):\n",
    "    return F.data[1]\n",
    "def UTPPGF_var(F):\n",
    "    return (2 * F.data[2]) - numpy.power(F.data[1], 2) + F.data[1]"
   ]
  },
  {
   "cell_type": "markdown",
   "metadata": {},
   "source": [
    "### Correctness test vs Matlab"
   ]
  },
  {
   "cell_type": "code",
   "execution_count": null,
   "metadata": {
    "collapsed": false,
    "scrolled": true
   },
   "outputs": [],
   "source": [
    "y = numpy.array([3,4,5])\n",
    "K = len(y)\n",
    "Y = sum(y)\n",
    "Lambda = numpy.array([8, 10, 12])\n",
    "Delta = numpy.array([0.6, 0.4])\n",
    "Rho = numpy.array([0.8, 0.8, 0.8])\n",
    "\n",
    "Alpha, Gamma, Psi = UTP_PGFFA(y, Lambda, Delta, Rho, d=3)\n",
    "\n",
    "print \"ll:\\t%e\"   % Alpha[-1].data[0]\n",
    "print \"Mean:\\t%e\" % UTPPGF_mean(Alpha[-1])\n",
    "print \"Var:\\t%e\"  % UTPPGF_var(Alpha[-1])\n",
    "\n",
    "print \"\\n\", \"Compare with the following Matlab code:\"\n",
    "print \"y =\", y, \";\"\n",
    "print \"lambda =\", Lambda, \";\"\n",
    "print \"delta =\", Delta, \";\"\n",
    "print \"rho =\", Rho[0], \";\"\n",
    "print \"[ll, ~, ~, ~, messages] = gf_forward(y, lambda, rho, delta);\"\n",
    "print \"[mean, var] = moments_pgf(messages(end).f, messages(end).a, messages(end).b);\"\n",
    "print \"fprintf('ll:\\\\t %.06e\\\\n', exp(ll));\"\n",
    "print \"fprintf('mean:\\\\t %.06e\\\\n', mean);\"\n",
    "print \"fprintf('mean:\\\\t %.06e\\\\n', var);\""
   ]
  },
  {
   "cell_type": "markdown",
   "metadata": {},
   "source": [
    "### Runtime test vs Matlab"
   ]
  },
  {
   "cell_type": "code",
   "execution_count": null,
   "metadata": {
    "collapsed": false,
    "scrolled": true
   },
   "outputs": [],
   "source": [
    "import time\n",
    "\n",
    "y = numpy.array([6,8,10,6,8,10,6,8,10])\n",
    "K = len(y)\n",
    "Y = sum(y)\n",
    "Lambda = numpy.array([16, 20, 24, 16, 20, 24, 16, 20, 24])\n",
    "Delta = numpy.array([0.6, 0.4, 0.6, 0.4, 0.6, 0.4, 0.6, 0.4])\n",
    "Rho = numpy.array([0.8, 0.8, 0.8, 0.8, 0.8, 0.8, 0.8, 0.8, 0.8])\n",
    "\n",
    "reps = 100\n",
    "t_start = time.clock()\n",
    "for i in range(0,reps):\n",
    "    Alpha, Gamma, Psi = UTP_PGFFA(y, Lambda, Delta, Rho, d=1)\n",
    "total_time = time.clock() - t_start\n",
    "\n",
    "print total_time / reps\n",
    "\n",
    "print \"\\n\", \"Compare with the following Matlab code:\"\n",
    "print \"y =\", y, \";\"\n",
    "print \"lambda =\", Lambda, \";\"\n",
    "print \"delta =\", Delta, \";\"\n",
    "print \"rho =\", Rho[0], \";\"\n",
    "print \"nIter =\", reps, \";\"\n",
    "print \"tStart = tic;\"\n",
    "print \"for i = 1:nIter\"\n",
    "print \"ll = gf_forward(y, lambda, rho, delta);\"\n",
    "print \"end\"\n",
    "print \"tTotal = toc(tStart)/nIter;\"\n",
    "print \"fprintf('elapsed time: %0.8f\\\\n', tTotal)\""
   ]
  },
  {
   "cell_type": "markdown",
   "metadata": {},
   "source": [
    "### Runtime test w/ Matlab data"
   ]
  },
  {
   "cell_type": "code",
   "execution_count": null,
   "metadata": {
    "collapsed": false
   },
   "outputs": [],
   "source": [
    "def utppgffa_vs_matlab(resultdir):\n",
    "    #read in the data saved out from a matlab experiment\n",
    "    data = scipy.io.loadmat(os.path.join(resultdir, \"data.mat\"))\n",
    "    y      = data.get('y')\n",
    "    Lambda = data.get('lambda')\n",
    "    Rho    = numpy.squeeze(data.get('rho'))\n",
    "    Delta  = numpy.squeeze(data.get('delta'))\n",
    "    \n",
    "    print y.shape\n",
    "    print Lambda.shape\n",
    "    print Rho.shape\n",
    "    print Delta.shape\n",
    "    \n",
    "    #dimensions\n",
    "    #nN and nRho were the grid search dimensions\n",
    "    #nIter is how many times each experiment was repeated\n",
    "    #K is the number of observations in each sample\n",
    "    [nN, nRho, nIter, K] = y.shape\n",
    "    \n",
    "    #repeat each experiment using UTPPGFFA\n",
    "    runtime = numpy.zeros((nN, nRho, nIter))\n",
    "    for iN in range(0, nN): #indexing through rows of lambda\n",
    "        for iRho in range(0, nRho):\n",
    "            for iIter in range(0, nIter):\n",
    "                print \"Experiment %d of %d, iter %d of %d\" % ((iRho + 1) + iN * nRho,\n",
    "                                                              nN * nRho,\n",
    "                                                              iIter,\n",
    "                                                              nIter)\n",
    "                t_start = time.clock()\n",
    "                [Alpha, Gamma, Psi] = UTP_PGFFA(y[iN, iRho, iIter, ],\n",
    "                                                Lambda[iN, ],\n",
    "                                                Delta,\n",
    "                                                Rho[iRho] * numpy.ones(K),\n",
    "                                                d = 1)\n",
    "                runtime[iN, iRho, iIter] = time.clock() - t_start\n",
    "    return runtime\n",
    "    \n",
    "resultdir = \"/Users/kwinner/Work/Data/Results/20170111T134734854\"\n",
    "runtime = utppgffa_vs_matlab(resultdir)\n",
    "scipy.io.savemat(os.path.join(resultdir, \"utppgffaruntime.mat\"),\n",
    "                 {'runtime':runtime})"
   ]
  },
  {
   "cell_type": "markdown",
   "metadata": {},
   "source": [
    "### Test space"
   ]
  },
  {
   "cell_type": "code",
   "execution_count": null,
   "metadata": {
    "collapsed": false
   },
   "outputs": [],
   "source": [
    "print numpy.zeros((5,4))"
   ]
  },
  {
   "cell_type": "markdown",
   "metadata": {},
   "source": [
    "UTPM example\n",
    "------------"
   ]
  },
  {
   "cell_type": "code",
   "execution_count": null,
   "metadata": {
    "collapsed": false,
    "scrolled": true
   },
   "outputs": [],
   "source": [
    "from numpy import sin,cos,exp\n",
    "\n",
    "def f(x):\n",
    "    return exp(3*x)\n",
    "\n",
    "D = 10; P = 1\n",
    "x = UTPM(numpy.zeros((D,P)))\n",
    "x.data[0,0] = 1\n",
    "x.data[1,0] = 1\n",
    "\n",
    "y = f(x)\n",
    "print(\"coefficients of y=\", y.data[:,0])\n",
    "\n",
    "print \", \".join(\"%s: %s\" % item for item in vars(x).items())\n",
    "# print \", \".join(\"%s: %s\" % item for item in dir(x).items())\n",
    "dir(x)"
   ]
  },
  {
   "cell_type": "markdown",
   "metadata": {},
   "source": [
    "2 state UTPPGFFA\n",
    "------------"
   ]
  },
  {
   "cell_type": "code",
   "execution_count": null,
   "metadata": {
    "collapsed": false,
    "scrolled": true
   },
   "outputs": [],
   "source": [
    "# two state chain\n",
    "utpm_coeff_template = numpy.zeros((Y,1))\n",
    "utpm_coeff_template[0,0] = 1\n",
    "utpm_coeff_template[1,0] = 1\n",
    "\n",
    "### GAMMA_1 MESSAGE ###\n",
    "v_1 = UTPM(numpy.copy(utpm_coeff_template))\n",
    "v_1.data[0,0] = V[0]\n",
    "# Gamma_1 = v_1 - 1\n",
    "# Gamma_1 = Lambda[0] * (v_1 - 1)\n",
    "Gamma_1 = numpy.exp(Lambda[0] * (v_1 - 1))\n",
    "\n",
    "### ALPHA_1 MESSAGE ###\n",
    "s_1 = UTPM(numpy.copy(utpm_coeff_template))\n",
    "s_1.data[0,0] = S[0]\n",
    "\n",
    "Alpha_1 = UTPM(numpy.copy(utpm_coeff_template))\n",
    "Alpha_1.data[:,0] = deriv(Gamma_1.data[:,0], y[0])\n",
    "\n",
    "#manual implementation of chain rule g(s_1) = s_1(1-rho_1)\n",
    "#evaluation of Gamma(s_1(1-rho_1)) already \"happened\" in backward pass\n",
    "Alpha_1.data[:,0] = Alpha_1.data[:,0] * numpy.power(1 - Rho[0], numpy.arange(Y))\n",
    "\n",
    "#multiply by 1/y_1!(s_1 rho_1)^{y_1}\n",
    "Alpha_1 = Alpha_1 * 1./scipy.misc.factorial(y[0]) * numpy.power(s_1 * Rho[0], y[0])\n",
    "\n",
    "### PSI_2 MESSAGE ###\n",
    "u_2 = UTPM(numpy.copy(utpm_coeff_template))\n",
    "u_2.data[0,0] = U[1]\n",
    "\n",
    "#manual implementation of chain rule g(u_2) = delta_1 * u_2 + 1 - delta_1\n",
    "Psi_2 = Alpha_1.copy()\n",
    "Psi_2.data[:,0] = Psi_2.data[:,0] * numpy.power(Delta[0], numpy.arange(Y))\n",
    "\n",
    "### GAMMA_2 MESSAGE ###\n",
    "v_2 = UTPM(numpy.copy(utpm_coeff_template))\n",
    "v_2.data[0,0] = V[1]\n",
    "Gamma_2 = Psi_2 * numpy.exp(Lambda[1] * (v_2 - 1))\n",
    "\n",
    "### ALPHA_2 MESSAGE ###\n",
    "s_2 = UTPM(numpy.copy(utpm_coeff_template))\n",
    "s_2.data[0,0] = S[1]\n",
    "Alpha_2 = UTPM(numpy.copy(utpm_coeff_template))\n",
    "Alpha_2.data[:,0] = deriv(Gamma_2.data[:,0], y[1])\n",
    "\n",
    "#### DAN added these two lines !\n",
    "Alpha_2.data[:,0] = Alpha_2.data[:,0] * numpy.power(1 - Rho[1], numpy.arange(Y))\n",
    "Alpha_2 = Alpha_2 * 1./scipy.misc.factorial(y[1]) * numpy.power(s_2 * Rho[1], y[1])\n",
    "\n",
    "#test forward\n",
    "print \"v_1: \", V[0]\n",
    "print \"Gamma_1: \", Gamma_1\n",
    "print \"s_1: \", S[0]\n",
    "print \"Alpha_1: \", Alpha_1\n",
    "print \"u_2: \", U[1]\n",
    "print \"Psi_2: \", Psi_2\n",
    "print \"v_2: \", V[1]\n",
    "print \"Gamma_2: \", Gamma_2\n",
    "print \"s_2: \", S[1]\n",
    "print \"Alpha_2: \", Alpha_2"
   ]
  }
 ],
 "metadata": {
  "anaconda-cloud": {},
  "kernelspec": {
   "display_name": "Python [default]",
   "language": "python",
   "name": "python2"
  },
  "language_info": {
   "codemirror_mode": {
    "name": "ipython",
    "version": 2
   },
   "file_extension": ".py",
   "mimetype": "text/x-python",
   "name": "python",
   "nbconvert_exporter": "python",
   "pygments_lexer": "ipython2",
   "version": "2.7.12"
  }
 },
 "nbformat": 4,
 "nbformat_minor": 1
}
