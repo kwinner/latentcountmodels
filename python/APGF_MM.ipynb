{
 "cells": [
  {
   "cell_type": "code",
   "execution_count": 103,
   "metadata": {
    "collapsed": true,
    "scrolled": true
   },
   "outputs": [],
   "source": [
    "### revised APGF implementation\n",
    "\n",
    "from IPython.core.debugger import set_trace\n",
    "\n",
    "import numpy as np\n",
    "from scipy.misc import factorial\n",
    "\n",
    "import gdual as gd\n",
    "import forward as fwd #for PGFs only\n",
    "\n",
    "def tsa(F, k, a = 1, lmbda = None):    \n",
    "    # tsa_callback := a function of a single variable that is returned by tsa\n",
    "    # note: tsa_callback shares some parameters with tsa\n",
    "    #       and imports some precomputed variables from tsa\n",
    "    def tsa_callback(x):\n",
    "        nonlocal k, a, lmbda \n",
    "        nonlocal coefs, i_set\n",
    "        \n",
    "        # R := a function to approximate the remainder term of the TSE\n",
    "        # note: R shares as parameters k, a\n",
    "        #       and 'imports' some common computation from tsa_callback\n",
    "        def R(x):\n",
    "            nonlocal k, a, lmbda\n",
    "            nonlocal i_set, series\n",
    "\n",
    "            # divide the terms by 1 / i!, then sum\n",
    "            R_series = list(map(lambda term: term[0] / factorial(term[1]), zip(series, i_set)))\n",
    "            res    = np.sum(R_series)\n",
    "            # now: res = \\sum_{i=0}^k (x-a)^i/i!\n",
    "\n",
    "            res = lmbda * (np.exp(x - a) - res)\n",
    "            # now: res = lambda * (e^{x - a} - \\sum_{i=0}^k (x-a)^i/i!)\n",
    "\n",
    "            return(res)\n",
    "        \n",
    "        # compute \\sum_{i = 0}^k \\frac{(s-a)^i}{i!}\n",
    "        base = x - a\n",
    "        \n",
    "        # if s (and therefore base) are dual numbers, then we can't\n",
    "        # simply broadcast against a vector for the power operation\n",
    "        series = list(map(lambda i: base ** i, i_set))\n",
    "        # note at this point, series is either a list of scalars or a list of dual numbers\n",
    "    \n",
    "        res = np.sum(coefs * series)\n",
    "        res = res + R(x)\n",
    "        \n",
    "        return(res)\n",
    "\n",
    "    ##### \n",
    "    # precompute anything that doesn't depend on x\n",
    "    \n",
    "    # get the series of derivatives F^{(i)}(a) for 0 <= i <= k using an LSGDual\n",
    "    a_lsgd = gd.LSGDual(a, q = k)\n",
    "    coefs = F(a_lsgd)\n",
    "    coefs = coefs.unwrap_coefs(coefs.coefs, as_log = False)\n",
    "    # note: F_derivs = F^{(i)}(a)/i! (the factorial is already included)\n",
    "\n",
    "    # if lmbda not specified, use F^{(k)}(a)\n",
    "    if lmbda is None:\n",
    "        lmbda = coefs[-1] * factorial(k) # note: need to cancel out (k!)\n",
    "        \n",
    "    i_set = np.arange(0, k+1)\n",
    "    \n",
    "    return(tsa_callback)"
   ]
  },
  {
   "cell_type": "code",
   "execution_count": null,
   "metadata": {},
   "outputs": [],
   "source": [
    "theta = [4]\n",
    "k = 100\n",
    "a = 1\n",
    "F = lambda s: fwd.poisson_pgf(s, theta)\n",
    "G = tsa(F, k, a)\n",
    "\n",
    "q = 20\n",
    "x = gd.LSGDual(0, q = q)\n",
    "# print(F(x))\n",
    "# print(G(x))\n",
    "\n",
    "# print(factorial(np.arange(0, 5)))"
   ]
  },
  {
   "cell_type": "code",
   "execution_count": 146,
   "metadata": {},
   "outputs": [
    {
     "name": "stderr",
     "output_type": "stream",
     "text": [
      "/Users/kwinner/anaconda/lib/python3.6/site-packages/ipykernel_launcher.py:31: RuntimeWarning: divide by zero encountered in exp\n"
     ]
    },
    {
     "data": {
      "image/png": "[encoded data removed]",
      "text/plain": [
       "<matplotlib.figure.Figure at 0x10ee2ca58>"
      ]
     },
     "metadata": {},
     "output_type": "display_data"
    },
    {
     "name": "stdout",
     "output_type": "stream",
     "text": [
      "4.47476932334e+15\n",
      "[  2.27777621e+10  -1.36993858e+13   1.10855807e+13  -3.16555462e+13\n",
      "   1.09995760e+14  -3.53093826e+14   8.93391792e+14  -1.81018878e+15\n",
      "   2.97919574e+15  -4.02120606e+15   4.47476932e+15  -4.11127084e+15\n",
      "   3.11191399e+15  -1.92876094e+15   9.68339441e+14  -3.87086673e+14\n",
      "   1.19948665e+14  -2.75989276e+13   4.37149929e+12  -4.05711950e+11\n",
      "   1.22512914e+10   5.83394828e+08   2.65179467e+07   1.15295421e+06\n",
      "   4.80397586e+04   1.92159034e+03   7.39073209e+01   2.73730818e+00\n",
      "   9.77610065e-02   3.37106919e-03   1.12368973e-04   3.62480558e-06\n",
      "   1.13275174e-07   3.43258104e-09   1.00958266e-10   2.88452188e-12\n",
      "   8.01256079e-14   2.16555697e-15   5.69883413e-17   1.46123952e-18\n",
      "   3.65309880e-20]\n",
      "[ 0.00010486  0.00062915  0.00207618  0.00498283  0.00971652  0.01632376\n",
      "  0.02448564  0.03358031  0.04281489  0.05137787  0.05857078  0.06389539\n",
      "  0.06709016  0.06812232  0.06714914  0.06446318  0.06043423  0.05545729\n",
      "  0.04991156  0.04413233  0.03839513  0.03291011  0.027824    0.02322699\n",
      "  0.01916227  0.01563641  0.01262941  0.01010353  0.00801065  0.00629803\n",
      "  0.00491246  0.0038032   0.00292371  0.00223265  0.00169419  0.0012779\n",
      "  0.00095843  0.00071493  0.00053056  0.0003918   0.00028797]\n"
     ]
    }
   ],
   "source": [
    "# visualize d/dx G(x) as a function of k\n",
    "\n",
    "import matplotlib.pyplot as plt\n",
    "\n",
    "plt.figure()\n",
    "\n",
    "theta = [10, 0.4]\n",
    "a = 1\n",
    "# F = lambda s: fwd.poisson_pgf(s, theta)\n",
    "# F = lambda s: fwd.binomial_pgf(s, theta)\n",
    "F = lambda s: fwd.negbin_pgf(s, theta)\n",
    "\n",
    "q = 40\n",
    "x = gd.LSGDual(0, q = q)\n",
    "fac = factorial(np.arange(q+1))\n",
    "\n",
    "y_true = F(x)\n",
    "y_true = y_true.unwrap_coefs(y_true.coefs, as_log = False)\n",
    "plt.plot(y_true, label='F')\n",
    "\n",
    "for k in [20]:\n",
    "    G = tsa(F, k, a)\n",
    "    y = G(x)\n",
    "    y = y.unwrap_coefs(y.coefs, as_log = False)\n",
    "    plt.plot(y, label='k = %d' % k)\n",
    "\n",
    "# plt.plot(np.abs(y - y_true))\n",
    "\n",
    "# plt.ylim(0.0, 0.2)\n",
    "plt.legend()\n",
    "plt.show()\n",
    "\n",
    "print(np.max(y))\n",
    "print(y)\n",
    "print(y_true)"
   ]
  },
  {
   "cell_type": "code",
   "execution_count": null,
   "metadata": {},
   "outputs": [],
   "source": [
    "# visualize G(s) vs F(s)\n",
    "\n",
    "import matplotlib.pyplot as plt\n",
    "\n",
    "theta = [10]\n",
    "a = 0.01\n",
    "k = 20\n",
    "F = lambda s: fwd.poisson_pgf(s, theta)\n",
    "\n",
    "x_plt = np.linspace(0, 4, 40)\n",
    "y = list(map(lambda i: np.exp(theta[0] * (i - 1)), x_plt))\n",
    "# y = y / factorial(y)\n",
    "\n",
    "plt.plot(x_plt, y, label = 'F')\n",
    "\n",
    "G = tsa(F, k, a)\n",
    "y = list(map(G, x_plt))\n",
    "# y = y / factorial(y)\n",
    "\n",
    "plt.plot(x_plt, y, label = 'G')\n",
    "\n",
    "plt.ylim(0.0, 20.0)\n",
    "plt.legend()\n",
    "\n",
    "plt.show()"
   ]
  },
  {
   "cell_type": "code",
   "execution_count": 111,
   "metadata": {},
   "outputs": [
    {
     "name": "stdout",
     "output_type": "stream",
     "text": [
      "[ -9.11205588e+01   2.77879441e+02  -2.66060279e+02   6.13132402e+01\n",
      "   1.53283100e+01   3.06566201e+00   5.10943668e-01   7.29919526e-02\n",
      "   9.12399408e-03   1.01377712e-03   1.01377712e-04]\n",
      "[  4.53999298e-05   4.53999298e-04   2.26999649e-03   7.56665496e-03\n",
      "   1.89166374e-02   3.78332748e-02   6.30554580e-02   9.00792257e-02\n",
      "   1.12599032e-01   1.25110036e-01   1.25110036e-01]\n",
      "277.879441171\n",
      "-266.060279414\n",
      "61.3132401952\n",
      "15.3283100488\n"
     ]
    }
   ],
   "source": [
    "print(y)\n",
    "print(y_true)\n",
    "print(1000 * np.exp(-1) - 100 + 10)\n",
    "print((1000 * np.exp(-1) + 100 - 1000)/2)\n",
    "print((1000 * np.exp(-1)) / factorial(3))\n",
    "print((1000 * np.exp(-1)) / factorial(4))\n",
    "\n",
    "# q_test = gd.LSGDual(1.0, q = k)\n",
    "# y_test = F(q_test)\n",
    "\n",
    "# y_test = y_test.unwrap_coefs(y_test.coefs, as_log = False)\n",
    "# print(y_test)\n",
    "# y_test = y_test * factorial(np.arange(k+1))\n",
    "# print(y_test)"
   ]
  },
  {
   "cell_type": "code",
   "execution_count": 4,
   "metadata": {},
   "outputs": [
    {
     "name": "stderr",
     "output_type": "stream",
     "text": [
      "/Users/kwinner/anaconda/lib/python3.6/site-packages/ipykernel_launcher.py:9: RuntimeWarning: divide by zero encountered in exp\n",
      "  if __name__ == '__main__':\n",
      "/Users/kwinner/anaconda/lib/python3.6/site-packages/ipykernel_launcher.py:11: RuntimeWarning: divide by zero encountered in log\n",
      "  # This is added back by InteractiveShellApp.init_path()\n",
      "/Users/kwinner/anaconda/lib/python3.6/site-packages/ipykernel_launcher.py:31: RuntimeWarning: divide by zero encountered in exp\n"
     ]
    },
    {
     "data": {
      "image/png": "[encoded data removed]",
      "text/plain": [
       "<matplotlib.figure.Figure at 0x102f0f5c0>"
      ]
     },
     "metadata": {},
     "output_type": "display_data"
    }
   ],
   "source": [
    "## approximate with the MGF?\n",
    "\n",
    "import matplotlib.pyplot as plt\n",
    "\n",
    "theta = [10]\n",
    "a = 0.001\n",
    "k = 100\n",
    "F = lambda s: fwd.poisson_pgf(s, theta)\n",
    "M = lambda s: F(np.exp(s))\n",
    "M_hat = tsa(M, k, a)\n",
    "F_hat = lambda s: M_hat(np.log(s))\n",
    "\n",
    "F_true = lambda s: np.exp(theta[0] * (s - 1))\n",
    "M_true = lambda s: np.exp(theta[0] * (np.exp(s) - 1))\n",
    "# x_plt = np.linspace(0, 4, 40)\n",
    "# y = list(map(M_true, x_plt))\n",
    "\n",
    "x = 1\n",
    "q = 16\n",
    "x_gdq = gd.LSGDual(x, q)\n",
    "\n",
    "y_true = F(x_gdq)\n",
    "y_hat  = F_hat(x_gdq)\n",
    "\n",
    "plt.figure()\n",
    "\n",
    "plt.plot(np.arange(q+1), y_true.unwrap_coefs(y_true.coefs, as_log = False), label='F')\n",
    "plt.plot(np.arange(q+1), y_hat.unwrap_coefs(y_hat.coefs, as_log = False), label='G')\n",
    "\n",
    "plt.legend()\n",
    "plt.show()\n",
    "# print(y)"
   ]
  },
  {
   "cell_type": "markdown",
   "metadata": {},
   "source": [
    "### Archive"
   ]
  },
  {
   "cell_type": "code",
   "execution_count": null,
   "metadata": {
    "collapsed": true
   },
   "outputs": [],
   "source": [
    "def tsa_log(F, k, a = 1, lmbda = None):    \n",
    "    # tsa_callback := a function of a single variable that is returned by tsa\n",
    "    # note: tsa_callback shares some parameters with tsa\n",
    "    #       and imports some precomputed variables from tsa\n",
    "    def tsa_log_callback(x):\n",
    "        nonlocal k, a, lmbda \n",
    "        nonlocal coefs, i_set\n",
    "        \n",
    "        # R := a function to approximate the remainder term of the TSE\n",
    "        # note: R shares as parameters k, a\n",
    "        #       and 'imports' some common computation from tsa_callback\n",
    "        def log_R(x):\n",
    "            nonlocal k, a, lmbda\n",
    "            nonlocal i_set, series\n",
    "\n",
    "            # divide the terms by 1 / i!, then sum\n",
    "            R_series = list(map(lambda term: term[0] / factorial(term[1]), zip(series, i_set)))\n",
    "            res    = np.sum(R_series)\n",
    "            # now: res = \\sum_{i=0}^k (x-a)^i/i!\n",
    "\n",
    "            res = lmbda * (np.exp(x - a) - res)\n",
    "            # now: res = lambda * (e^{x - a} - \\sum_{i=0}^k (x-a)^i/i!)\n",
    "\n",
    "            return(res)\n",
    "        \n",
    "        # compute \\sum_{i = 0}^k \\frac{(s-a)^i}{i!}\n",
    "        base = x - a\n",
    "        \n",
    "        # if s (and therefore base) are dual numbers, then we can't\n",
    "        # simply broadcast against a vector for the power operation\n",
    "        series = list(map(lambda i: base ** i, i_set))\n",
    "        # note at this point, series is either a list of scalars or a list of dual numbers\n",
    "    \n",
    "        res = np.sum(coefs * series)\n",
    "        res = res + R(x)\n",
    "        \n",
    "        return(res)\n",
    "\n",
    "    ##### \n",
    "    # precompute anything that doesn't depend on x\n",
    "    \n",
    "    # get the series of derivatives F^{(i)}(a) for 0 <= i <= k using an LSGDual\n",
    "    a_lsgd = gd.LSGDual(a, q = k)\n",
    "    coefs = F(a_lsgd)\n",
    "    coefs = coefs.unwrap_coefs(coefs.coefs, as_log = False)\n",
    "    # note: F_derivs = F^{(i)}(a)/i! (the factorial is already included)\n",
    "\n",
    "    # if lmbda not specified, use F^{(k)}(a)\n",
    "    if lmbda is None:\n",
    "        lmbda = coefs[-1] * factorial(k) # note: need to cancel out (k!)\n",
    "        \n",
    "    i_set = np.arange(0, k+1)\n",
    "    \n",
    "    return(tsa_callback)"
   ]
  },
  {
   "cell_type": "code",
   "execution_count": null,
   "metadata": {
    "collapsed": true
   },
   "outputs": [],
   "source": [
    "# non logspace version of apgf\n",
    "\n",
    "from IPython.core.debugger import set_trace\n",
    "\n",
    "import numpy as np\n",
    "from scipy.misc import factorial\n",
    "\n",
    "import gdual as gd\n",
    "import forward as fwd #for PGFs only\n",
    "\n",
    "# F: the PGF to be approximated\n",
    "# k: the \n",
    "def apgf(F, k, a = 1, lmbda = None):\n",
    "    i = np.arange(k + 1)\n",
    "    nums = F(gd.GDual(a, q = k, as_log=False))    \n",
    "    denoms = factorial(i)\n",
    "    \n",
    "    coefs = nums.coefs \n",
    "    \n",
    "#     set_trace()\n",
    "    \n",
    "    if lmbda is None:\n",
    "        lmbda = nums.coefs[-1]\n",
    "\n",
    "    def R(a, k, lmbda):\n",
    "        def R_callback(s):\n",
    "            nums_R = list(map(lambda i: (s - a) ** i, i))\n",
    "\n",
    "            return(lmbda * (np.exp(s - a) - np.sum(nums_R / denoms)))\n",
    "\n",
    "        return(R_callback)\n",
    "        \n",
    "    R_fun = R(a, k, lmbda)\n",
    "    \n",
    "    def apgf_callback(s):\n",
    "        terms = list(map(lambda i: (s - a) ** i, i))\n",
    "        \n",
    "#         set_trace()\n",
    "        \n",
    "        return(np.sum(coefs * terms) + R_fun(s))\n",
    "    \n",
    "    return apgf_callback\n",
    "\n",
    "# theta = [14, 0.4]\n",
    "theta = [4]\n",
    "k = 10\n",
    "a = 1\n",
    "G = apgf(lambda s: fwd.poisson_pgf(s, theta), k, a)\n",
    "\n",
    "print(G(0))\n",
    "# print(fwd.poisson_pgf(gd.GDual(0, q = 10, as_log=True), theta))\n",
    "\n",
    "a_gd = gd.LSGDual(1.0000, q = 20, as_log=False)\n",
    "derivs = G(a_gd)\n",
    "\n",
    "print(derivs)\n",
    "\n",
    "derivs_2 = fwd.poisson_pgf(a_gd, theta)\n",
    "\n",
    "print(derivs_2)"
   ]
  },
  {
   "cell_type": "markdown",
   "metadata": {},
   "source": [
    "### Testing below"
   ]
  },
  {
   "cell_type": "code",
   "execution_count": null,
   "metadata": {
    "collapsed": true
   },
   "outputs": [],
   "source": [
    "import numpy as np\n",
    "from scipy.misc import factorial\n",
    "\n",
    "import gdual as gd\n",
    "import forward as fwd"
   ]
  },
  {
   "cell_type": "code",
   "execution_count": null,
   "metadata": {
    "collapsed": true
   },
   "outputs": [],
   "source": [
    "theta = [14, 0.4]\n",
    "pgf = lambda s: fwd.binomial_pgf(s, theta)\n",
    "\n",
    "k = 10\n",
    "x = 3\n",
    "\n",
    "a = gd.GDual(x, q=k, as_log=False)\n",
    "\n",
    "# print(a.coefs)\n",
    "\n",
    "b = pgf(a)\n",
    "\n",
    "# print(b.coefs)"
   ]
  },
  {
   "cell_type": "code",
   "execution_count": null,
   "metadata": {
    "collapsed": true
   },
   "outputs": [],
   "source": [
    "c = np.arange(k+1)\n",
    "d = np.array(list(map(lambda i: 1./factorial(i), c)))\n",
    "\n",
    "print(d)"
   ]
  },
  {
   "cell_type": "code",
   "execution_count": null,
   "metadata": {
    "collapsed": true
   },
   "outputs": [],
   "source": [
    "s = x\n",
    "lmbda = b.coefs[-1]\n",
    "\n",
    "print(lmbda)\n",
    "\n",
    "f = np.array(list(map(lambda i: (s - x) ** i, c)))\n",
    "\n",
    "print(f)\n",
    "\n",
    "g = b.coefs * d * f\n",
    "\n",
    "# print(g)"
   ]
  },
  {
   "cell_type": "code",
   "execution_count": null,
   "metadata": {
    "collapsed": true
   },
   "outputs": [],
   "source": [
    "print(d * f)\n",
    "\n",
    "R = lmbda * (np.exp(s - x) - (np.sum(d * f)))\n",
    "\n",
    "print(np.exp(s - 1))\n",
    "print(np.sum(d*f))\n",
    "print(R)\n",
    "\n",
    "Z = np.sum(g) + R"
   ]
  },
  {
   "cell_type": "code",
   "execution_count": null,
   "metadata": {
    "collapsed": true
   },
   "outputs": [],
   "source": [
    "print(pgf(s))\n",
    "print(Z)"
   ]
  },
  {
   "cell_type": "code",
   "execution_count": null,
   "metadata": {
    "collapsed": true
   },
   "outputs": [],
   "source": [
    "a.coefs"
   ]
  },
  {
   "cell_type": "code",
   "execution_count": null,
   "metadata": {
    "collapsed": true
   },
   "outputs": [],
   "source": [
    "b.coefs * d * f"
   ]
  },
  {
   "cell_type": "code",
   "execution_count": null,
   "metadata": {
    "collapsed": true
   },
   "outputs": [],
   "source": []
  }
 ],
 "metadata": {
  "kernelspec": {
   "display_name": "Python 3",
   "language": "python",
   "name": "python3"
  },
  "language_info": {
   "codemirror_mode": {
    "name": "ipython",
    "version": 3
   },
   "file_extension": ".py",
   "mimetype": "text/x-python",
   "name": "python",
   "nbconvert_exporter": "python",
   "pygments_lexer": "ipython3",
   "version": "3.6.3"
  }
 },
 "nbformat": 4,
 "nbformat_minor": 2
}
