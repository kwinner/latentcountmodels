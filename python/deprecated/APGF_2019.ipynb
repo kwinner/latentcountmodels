{
 "cells": [
  {
   "cell_type": "code",
   "execution_count": 21,
   "metadata": {
    "collapsed": true
   },
   "outputs": [],
   "source": [
    "from IPython.core.debugger import set_trace\n",
    "\n",
    "import numpy as np\n",
    "import scipy as sp\n",
    "import scipy.optimize as optim\n",
    "\n",
    "import gdual as gd\n",
    "import forward as fwd\n",
    "\n",
    "import matplotlib.pyplot as plt"
   ]
  },
  {
   "cell_type": "code",
   "execution_count": 55,
   "metadata": {
    "collapsed": true
   },
   "outputs": [],
   "source": [
    "# construct a poisson PGF by matching moments with some dist'n p \n",
    "# if provided, renormalize the PGF w/ Z\n",
    "def APGF_Poiss(mean_p, Z = 1.0):\n",
    "    lambda_q = mean_p\n",
    "    theta_q  = [lambda_q]\n",
    "    \n",
    "    return lambda s: Z * fwd.poisson_pgf(s, theta_q)\n",
    "\n",
    "# construct a NB PGF by matching moments with some dist'n p \n",
    "# if provided, renormalize the PGF w/ Z\n",
    "def APGF_NB(mean_p, var_p, Z = 1.0):\n",
    "    r_q = (mean_p ** 2) / (var_p - mean_p)\n",
    "    p_q = 1 - (mean_p / var_p)\n",
    "    theta_q = [r_q, p_q]\n",
    "    \n",
    "    return lambda s: Z * fwd.negbin_pgf(s, theta_q)\n",
    "\n",
    "def APGF(F_p):\n",
    "    # compute the normalization constant for F\n",
    "    Z = F_p(1)\n",
    "        \n",
    "    if isinstance(Z, gd.GDual) or isinstance(Z, gd.LSGDual):\n",
    "        Z = Z.unwrap_coefs(Z.coefs)[0]\n",
    "    \n",
    "    # renormalize the distribution before computing moments\n",
    "    F_star = lambda s: F_p(s) / Z\n",
    "    \n",
    "    # construct M_p, the MGF of p, from F_star\n",
    "    M_p = lambda t: F_star(np.exp(t))\n",
    "\n",
    "    # use the MGF to compute the first k moments of p\n",
    "    k = 2\n",
    "    t0_gd = gd.GDual(0, q = k)\n",
    "    moments_p = M_p(t0_gd)\n",
    "    moments_p = moments_p.unwrap_coefs(moments_p.coefs, as_log = False)[1:] * sp.misc.factorial(np.arange(1, k+1))\n",
    "    \n",
    "    mean_p = moments_p[0]\n",
    "    var_p  = moments_p[1] - (moments_p[0] ** 2)\n",
    "    \n",
    "    if mean_p == var_p:\n",
    "        return APGF_Poiss(mean_p, Z), Z\n",
    "    else:\n",
    "        return APGF_NB(mean_p, var_p, Z), Z"
   ]
  },
  {
   "cell_type": "code",
   "execution_count": 76,
   "metadata": {},
   "outputs": [
    {
     "name": "stdout",
     "output_type": "stream",
     "text": [
      "(array([-inf]), array([ 0.]), [<function APGF_Forward.<locals>.<lambda> at 0x115ef7620>, <function APGF_Forward.<locals>.<lambda> at 0x115ef7158>, <function APGF_Forward.<locals>.<lambda> at 0x115ef78c8>, <function APGF_Forward.<locals>.<lambda> at 0x115ef7378>])\n",
      "(-6.0515733053769445, array([ 0.00235416]), <function forward.<locals>.marginals at 0x115dfb0d0>)\n"
     ]
    },
    {
     "name": "stderr",
     "output_type": "stream",
     "text": [
      "/Users/kwinner/Work/latentcountmodels/python/forward.py:9: RuntimeWarning: divide by zero encountered in exp\n",
      "  return np.exp(lmbda * (s - 1))\n",
      "/Users/kwinner/Work/latentcountmodels/python/gdual_impl.py:222: RuntimeWarning: invalid value encountered in log\n",
      "  out[0] = np.log(F[0])\n",
      "/Users/kwinner/Work/latentcountmodels/python/gdual_impl.py:242: RuntimeWarning: divide by zero encountered in double_scalars\n",
      "  out[0] = 1. / F[0]\n",
      "/Users/kwinner/Work/latentcountmodels/python/gdual_impl.py:244: RuntimeWarning: divide by zero encountered in double_scalars\n",
      "  out[i] = 1. / F[0] * (-np.sum(out[:i] * F[i:0:-1], axis=0))\n",
      "/Users/kwinner/Work/latentcountmodels/python/gdual_impl.py:244: RuntimeWarning: invalid value encountered in multiply\n",
      "  out[i] = 1. / F[0] * (-np.sum(out[:i] * F[i:0:-1], axis=0))\n",
      "/Users/kwinner/Work/latentcountmodels/python/forward.py:22: RuntimeWarning: invalid value encountered in multiply\n",
      "  return ((p / (1 - ((1 - p) * s))) ** r)\n",
      "/Users/kwinner/Work/latentcountmodels/python/forward.py:22: RuntimeWarning: invalid value encountered in true_divide\n",
      "  return ((p / (1 - ((1 - p) * s))) ** r)\n",
      "/Users/kwinner/anaconda/lib/python3.6/site-packages/ipykernel_launcher.py:40: RuntimeWarning: divide by zero encountered in log\n"
     ]
    }
   ],
   "source": [
    "# GDualType = gd.LSGDual\n",
    "\n",
    "def APGF_Forward(y,\n",
    "                 immigration_pgf,\n",
    "                 theta_immigration,\n",
    "                 offspring_pgf,\n",
    "                 theta_offspring,\n",
    "                 rho,\n",
    "                 GDualType = gd.LSGDual,\n",
    "                 d = 0):\n",
    "    def Gamma_k(u_k, Alpha_PGF, k):\n",
    "        #F(.) = offspring_pgf(u_k, theta_offspring[k-1])\n",
    "        #G(.) = immigration_pgf(u_k, theta_immigration[k])\n",
    "#         print(offspring_pgf(u_k, theta_offspring[k-1]))\n",
    "        res = Alpha_PGF(offspring_pgf(u_k, theta_offspring[k-1])) * immigration_pgf(u_k, theta_immigration[k])\n",
    "        return res\n",
    "    \n",
    "    def Alpha_k(s_k, Gamma_PGF, k):\n",
    "        const = (s_k * rho[k])**y[k] / sp.misc.factorial(y[k])\n",
    "        res = const * fwd.diff(Gamma_PGF, s_k*(1 - rho[k]), y[k], GDualType=GDualType)\n",
    "        return res\n",
    "    \n",
    "    K = len(y)\n",
    "    \n",
    "    Gamma_PGFs = [None] * K\n",
    "    Alpha_PGFs = [None] * (K+1)\n",
    "    Z = [None] * K\n",
    "    Alpha_PGFs[0] = lambda s_k: 1\n",
    "    \n",
    "    for i in range(K):\n",
    "        Gamma = lambda u_k,k=i: Gamma_k(u_k, Alpha_PGFs[k], k)\n",
    "        res = APGF(Gamma)\n",
    "        Gamma_PGFs[i] = res[0]\n",
    "        Z[i] = res[1]\n",
    "        \n",
    "        Alpha_PGFs[i+1] = lambda s_k,k=i: Alpha_k(s_k, Gamma_PGFs[k], k)\n",
    "    \n",
    "    if d == 0:\n",
    "        alpha = Alpha_PGFs[-1]( 1.0 )\n",
    "        logZ = np.log(alpha)\n",
    "    else:\n",
    "        alpha = Alpha_PGFs[-1]( GDualType(1.0, d) )\n",
    "        logZ = alpha.get(0, as_log = True)\n",
    "    \n",
    "    return logZ, alpha, Alpha_PGFs\n",
    "\n",
    "y     = np.array([3,2,4])\n",
    "lmbda = np.array([5,5,5]).reshape(-1,1)\n",
    "delta = np.array([0.4, 0.4]).reshape(-1,1)\n",
    "rho   = np.array([0.25, 0.25, 0.25])\n",
    "\n",
    "res = APGF_Forward(y,\n",
    "                   fwd.poisson_pgf,\n",
    "                   lmbda,\n",
    "                   fwd.bernoulli_pgf,\n",
    "                   delta,\n",
    "                   rho)\n",
    "\n",
    "# print(res[0][-1](1))\n",
    "print(res)\n",
    "\n",
    "res2 = fwd.forward(y,\n",
    "                   fwd.poisson_pgf,\n",
    "                   lmbda,\n",
    "                   fwd.bernoulli_pgf,\n",
    "                   delta,\n",
    "                   rho)\n",
    "print(res2)\n",
    "\n",
    "# print(np.log(res[-1](1)))"
   ]
  },
  {
   "cell_type": "markdown",
   "metadata": {},
   "source": [
    "### Tests"
   ]
  },
  {
   "cell_type": "code",
   "execution_count": 47,
   "metadata": {},
   "outputs": [
    {
     "name": "stdout",
     "output_type": "stream",
     "text": [
      "[  7.  63.]\n",
      "7.0\n",
      "14.0\n",
      "7.0\n",
      "0.5\n"
     ]
    }
   ],
   "source": [
    "## test method of computing moments\n",
    "\n",
    "theta_p = [7.0, 0.5]\n",
    "F_p = lambda s: fwd.negbin_pgf(s, theta_p)\n",
    "\n",
    "# theta_p = [6.0]\n",
    "# F_p = lambda s: fwd.poisson_pgf(s, theta_p)\n",
    "\n",
    "# construct M_p, the MGF of p\n",
    "M_p = lambda t: F_p(np.exp(t))\n",
    "\n",
    "# use the MGF to compute the first k moments of p\n",
    "k = 2\n",
    "t0_gd = gd.GDual(0, q = k)\n",
    "moments_p = M_p(t0_gd)\n",
    "moments_p = moments_p.unwrap_coefs(moments_p.coefs, as_log = False)[1:] * sp.misc.factorial(np.arange(1, k+1))\n",
    "\n",
    "print(moments_p)\n",
    "\n",
    "mu_p  = moments_p[0]\n",
    "var_p = moments_p[1] - (moments_p[0] ** 2)\n",
    "\n",
    "print(mu_p)\n",
    "print(var_p)\n",
    "\n",
    "r_q = (mu_p ** 2) / (var_p - mu_p)\n",
    "p_q = 1 - (mu_p/var_p)\n",
    "\n",
    "print(r_q)\n",
    "print(p_q)"
   ]
  },
  {
   "cell_type": "markdown",
   "metadata": {},
   "source": [
    "### OLD CODE"
   ]
  },
  {
   "cell_type": "code",
   "execution_count": 11,
   "metadata": {
    "collapsed": true
   },
   "outputs": [],
   "source": [
    "# ## OLD VERSIONS OF APGF WHICH DIDN'T RENORMALIZE BEFORE TAKING MOMENTS\n",
    "\n",
    "# def APGF_Poiss_1(mean_p):\n",
    "#     lambda_q = mean_p\n",
    "#     theta_q  = [lambda_q]\n",
    "    \n",
    "#     return lambda s: fwd.poisson_pgf(s, theta_q)\n",
    "\n",
    "# def APGF_NB_1(mean_p, var_p):\n",
    "#     r_q = (mean_p ** 2) / (var_p - mean_p)\n",
    "#     p_q = 1 - (mean_p / var_p)\n",
    "#     theta_q = [r_q, p_q]\n",
    "    \n",
    "#     return lambda s: fwd.negbin_pgf(s, theta_q)\n",
    "\n",
    "# def APGF_1(F_p):\n",
    "#     Z = F_p(1)\n",
    "    \n",
    "#     # construct M_p, the MGF of p\n",
    "#     M_p = lambda t: F_p(np.exp(t))\n",
    "\n",
    "#     # use the MGF to compute the first k moments of p\n",
    "#     k = 2\n",
    "#     t0_gd = gd.GDual(0, q = k)\n",
    "#     moments_p = M_p(t0_gd)\n",
    "#     moments_p = moments_p.unwrap_coefs(moments_p.coefs, as_log = False)[1:] * sp.misc.factorial(np.arange(1, k+1))\n",
    "    \n",
    "#     mean_p = moments_p[0]\n",
    "#     var_p  = moments_p[1] - (moments_p[0] ** 2)\n",
    "    \n",
    "#     if mean_p == var_p:\n",
    "#         return APGF_Poiss_1(mean_p), Z\n",
    "#     else:\n",
    "#         return APGF_NB_1(mean_p, var_p), Z\n",
    "    \n",
    "# ## test methods for APGF\n",
    "\n",
    "# theta_p = [7.0, 0.5]\n",
    "# F_p = lambda s: 0.4 * fwd.negbin_pgf(s, theta_p)\n",
    "\n",
    "# print(F_p(0))\n",
    "\n",
    "# Fhat_p_1 = APGF(F_p)[0]\n",
    "# print(Fhat_p_1(0))\n",
    "\n",
    "# Fhat_p_2 = APGF_1(F_p)[0]\n",
    "# print(Fhat_p_2(0))"
   ]
  },
  {
   "cell_type": "code",
   "execution_count": 72,
   "metadata": {},
   "outputs": [
    {
     "name": "stderr",
     "output_type": "stream",
     "text": [
      "/Users/kwinner/Work/latentcountmodels/python/forward.py:9: RuntimeWarning: divide by zero encountered in exp\n",
      "  return np.exp(lmbda * (s - 1))\n",
      "/Users/kwinner/anaconda/lib/python3.6/site-packages/ipykernel_launcher.py:5: RuntimeWarning: divide by zero encountered in log\n",
      "  \"\"\"\n"
     ]
    },
    {
     "data": {
      "text/plain": [
       "array([-2.37232882])"
      ]
     },
     "execution_count": 72,
     "metadata": {},
     "output_type": "execute_result"
    }
   ],
   "source": [
    "### SCRAP TESTING AREA\n",
    "\n",
    "# t0_gd.unwrap_coefs(t0_gd.coefs)[0]\n",
    "\n",
    "np.log(res[0][1](1))\n",
    "\n",
    "# r = [f(1) for f in res[0]]\n",
    "# r\n",
    "\n",
    "# res[0][1](1)"
   ]
  },
  {
   "cell_type": "code",
   "execution_count": null,
   "metadata": {
    "collapsed": true
   },
   "outputs": [],
   "source": []
  }
 ],
 "metadata": {
  "kernelspec": {
   "display_name": "Python 3",
   "language": "python",
   "name": "python3"
  },
  "language_info": {
   "codemirror_mode": {
    "name": "ipython",
    "version": 3
   },
   "file_extension": ".py",
   "mimetype": "text/x-python",
   "name": "python",
   "nbconvert_exporter": "python",
   "pygments_lexer": "ipython3",
   "version": "3.6.3"
  }
 },
 "nbformat": 4,
 "nbformat_minor": 2
}
