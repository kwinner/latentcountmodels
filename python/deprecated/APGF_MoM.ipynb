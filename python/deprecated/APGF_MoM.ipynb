{
 "cells": [
  {
   "cell_type": "code",
   "execution_count": 1,
   "metadata": {
    "collapsed": true
   },
   "outputs": [],
   "source": [
    "from IPython.core.debugger import set_trace\n",
    "\n",
    "import numpy as np\n",
    "import scipy as sp\n",
    "import scipy.optimize as optim\n",
    "from scipy.optimize import minimize\n",
    "from scipy.misc import factorial\n",
    "from scipy.special import polygamma, expit, logit, gammaln\n",
    "\n",
    "import gdual as gd\n",
    "import forward as fwd #for PGFs only\n",
    "\n",
    "import matplotlib.pyplot as plt"
   ]
  },
  {
   "cell_type": "code",
   "execution_count": 2,
   "metadata": {},
   "outputs": [
    {
     "name": "stdout",
     "output_type": "stream",
     "text": [
      "[  7.  63.]\n",
      "7.0\n",
      "14.0\n",
      "7.0\n",
      "0.5\n"
     ]
    }
   ],
   "source": [
    "theta_p = [7.0, 0.5]\n",
    "F_p = lambda s: fwd.negbin_pgf(s, theta_p)\n",
    "\n",
    "# theta_p = [6.0]\n",
    "# F_p = lambda s: fwd.poisson_pgf(s, theta_p)\n",
    "\n",
    "# construct M_p, the MGF of p\n",
    "M_p = lambda t: F_p(np.exp(t))\n",
    "\n",
    "# use the MGF to compute the first k moments of p\n",
    "k = 2\n",
    "t0_gd = gd.GDual(0, q = k)\n",
    "moments_p = M_p(t0_gd)\n",
    "moments_p = moments_p.unwrap_coefs(moments_p.coefs, as_log = False)[1:] * factorial(np.arange(1, k+1))\n",
    "\n",
    "print(moments_p)\n",
    "\n",
    "mu_p  = moments_p[0]\n",
    "var_p = moments_p[1] - (moments_p[0] ** 2)\n",
    "\n",
    "print(mu_p)\n",
    "print(var_p)\n",
    "\n",
    "r_q = (mu_p ** 2) / (var_p - mu_p)\n",
    "p_q = 1 - (mu_p/var_p)\n",
    "\n",
    "print(r_q)\n",
    "print(p_q)"
   ]
  },
  {
   "cell_type": "code",
   "execution_count": null,
   "metadata": {
    "collapsed": true
   },
   "outputs": [],
   "source": [
    "def APGF_Poiss(mean_p, Z = 1.0):\n",
    "    lambda_q = mean_p\n",
    "    theta_q  = [lambda_q]\n",
    "    \n",
    "    return lambda s: fwd.poisson_pgf(s, theta_q)\n",
    "\n",
    "def APGF_NB(mean_p, var_p, Z = 1.0):\n",
    "    r_q = (mean_p ** 2) / (var_p - mean_p)\n",
    "    p_q = 1 - (mean_p / var_p)\n",
    "    theta_q = [r_q, p_q]\n",
    "    \n",
    "    return lambda s: fwd.negbin_pgf(s, theta_q)\n",
    "\n",
    "def APGF(F_p):\n",
    "    Z = F_p(1)\n",
    "    \n",
    "    # construct M_p, the MGF of p\n",
    "    M_p = lambda t: F_p(np.exp(t))\n",
    "\n",
    "    # use the MGF to compute the first k moments of p\n",
    "    k = 2\n",
    "    t0_gd = gd.GDual(0, q = k)\n",
    "    moments_p = M_p(t0_gd)\n",
    "    moments_p = moments_p.unwrap_coefs(moments_p.coefs, as_log = False)[1:] * factorial(np.arange(1, k+1))\n",
    "    \n",
    "    mean_p = moments_p[0]\n",
    "    var_p  = moments_p[1] - (moments_p[0] ** 2)\n",
    "    \n",
    "    if mean_p == var_p:\n",
    "        return APGF_Poiss(mean_p, Z), Z\n",
    "    else:\n",
    "        return APGF_NB(mean_p, var_p, Z), Z"
   ]
  },
  {
   "cell_type": "code",
   "execution_count": 5,
   "metadata": {},
   "outputs": [
    {
     "name": "stderr",
     "output_type": "stream",
     "text": [
      "/Users/kwinner/anaconda/lib/python3.6/site-packages/ipykernel_launcher.py:28: RuntimeWarning: divide by zero encountered in exp\n",
      "/Users/kwinner/Work/latentcountmodels/python/forward.py:9: RuntimeWarning: divide by zero encountered in exp\n",
      "  return np.exp(lmbda * (s - 1))\n"
     ]
    },
    {
     "name": "stdout",
     "output_type": "stream",
     "text": [
      "> \u001b[0;32m<ipython-input-5-8617a3936d60>\u001b[0m(35)\u001b[0;36mGamma\u001b[0;34m()\u001b[0m\n",
      "\u001b[0;32m     33 \u001b[0;31m            \u001b[0mmoments\u001b[0m \u001b[0;34m=\u001b[0m \u001b[0mM_gamma_k\u001b[0m\u001b[0;34m(\u001b[0m\u001b[0mzero_gd\u001b[0m\u001b[0;34m)\u001b[0m\u001b[0;34m\u001b[0m\u001b[0m\n",
      "\u001b[0m\u001b[0;32m     34 \u001b[0;31m            \u001b[0mset_trace\u001b[0m\u001b[0;34m(\u001b[0m\u001b[0;34m)\u001b[0m\u001b[0;34m\u001b[0m\u001b[0m\n",
      "\u001b[0m\u001b[0;32m---> 35 \u001b[0;31m            \u001b[0mmoments\u001b[0m \u001b[0;34m=\u001b[0m \u001b[0mmoments\u001b[0m\u001b[0;34m.\u001b[0m\u001b[0munwrap_coefs\u001b[0m\u001b[0;34m(\u001b[0m\u001b[0mmoments\u001b[0m\u001b[0;34m.\u001b[0m\u001b[0mcoefs\u001b[0m\u001b[0;34m,\u001b[0m \u001b[0mas_log\u001b[0m \u001b[0;34m=\u001b[0m \u001b[0;32mFalse\u001b[0m\u001b[0;34m)\u001b[0m\u001b[0;34m[\u001b[0m\u001b[0;36m1\u001b[0m\u001b[0;34m:\u001b[0m\u001b[0;34m]\u001b[0m \u001b[0;34m*\u001b[0m \u001b[0mfactorial\u001b[0m\u001b[0;34m(\u001b[0m\u001b[0mnp\u001b[0m\u001b[0;34m.\u001b[0m\u001b[0marange\u001b[0m\u001b[0;34m(\u001b[0m\u001b[0;36m1\u001b[0m\u001b[0;34m,\u001b[0m \u001b[0mN_MOMENTS\u001b[0m \u001b[0;34m+\u001b[0m \u001b[0;36m1\u001b[0m\u001b[0;34m)\u001b[0m\u001b[0;34m)\u001b[0m\u001b[0;34m\u001b[0m\u001b[0m\n",
      "\u001b[0m\u001b[0;32m     36 \u001b[0;31m\u001b[0;34m\u001b[0m\u001b[0m\n",
      "\u001b[0m\u001b[0;32m     37 \u001b[0;31m            \u001b[0mmean_gamma_k\u001b[0m \u001b[0;34m=\u001b[0m \u001b[0mmoments\u001b[0m\u001b[0;34m[\u001b[0m\u001b[0;36m0\u001b[0m\u001b[0;34m]\u001b[0m\u001b[0;34m\u001b[0m\u001b[0m\n",
      "\u001b[0m\n",
      "ipdb> q\n"
     ]
    },
    {
     "ename": "BdbQuit",
     "evalue": "",
     "output_type": "error",
     "traceback": [
      "\u001b[0;31m---------------------------------------------------------------------------\u001b[0m",
      "\u001b[0;31mBdbQuit\u001b[0m                                   Traceback (most recent call last)",
      "\u001b[0;32m<ipython-input-5-8617a3936d60>\u001b[0m in \u001b[0;36m<module>\u001b[0;34m()\u001b[0m\n\u001b[1;32m     85\u001b[0m                                      \u001b[0mdelta\u001b[0m\u001b[0;34m,\u001b[0m\u001b[0;34m\u001b[0m\u001b[0m\n\u001b[1;32m     86\u001b[0m                                      \u001b[0mrho\u001b[0m\u001b[0;34m,\u001b[0m\u001b[0;34m\u001b[0m\u001b[0m\n\u001b[0;32m---> 87\u001b[0;31m                                      GDualType=gd.LSGDual)\n\u001b[0m",
      "\u001b[0;32m<ipython-input-5-8617a3936d60>\u001b[0m in \u001b[0;36mAPGF_forward\u001b[0;34m(y, immigration_pgf, theta_immigration, offspring_pgf, theta_offspring, rho, GDualType)\u001b[0m\n\u001b[1;32m     62\u001b[0m \u001b[0;31m#     else:\u001b[0m\u001b[0;34m\u001b[0m\u001b[0;34m\u001b[0m\u001b[0m\n\u001b[1;32m     63\u001b[0m \u001b[0;31m#         alpha = A_final( GDualType(1.0, d) )\u001b[0m\u001b[0;34m\u001b[0m\u001b[0;34m\u001b[0m\u001b[0m\n\u001b[0;32m---> 64\u001b[0;31m     \u001b[0malpha\u001b[0m \u001b[0;34m=\u001b[0m \u001b[0mA_final\u001b[0m\u001b[0;34m(\u001b[0m \u001b[0mGDualType\u001b[0m\u001b[0;34m(\u001b[0m\u001b[0;36m1.0\u001b[0m\u001b[0;34m,\u001b[0m \u001b[0;36m1\u001b[0m\u001b[0;34m)\u001b[0m \u001b[0;34m)\u001b[0m\u001b[0;34m\u001b[0m\u001b[0m\n\u001b[0m\u001b[1;32m     65\u001b[0m \u001b[0;34m\u001b[0m\u001b[0m\n\u001b[1;32m     66\u001b[0m     \u001b[0mlogZ\u001b[0m \u001b[0;34m=\u001b[0m \u001b[0malpha\u001b[0m\u001b[0;34m.\u001b[0m\u001b[0mget\u001b[0m\u001b[0;34m(\u001b[0m\u001b[0;36m0\u001b[0m\u001b[0;34m,\u001b[0m \u001b[0mas_log\u001b[0m\u001b[0;34m=\u001b[0m\u001b[0;32mTrue\u001b[0m\u001b[0;34m)\u001b[0m\u001b[0;34m\u001b[0m\u001b[0m\n",
      "\u001b[0;32m<ipython-input-5-8617a3936d60>\u001b[0m in \u001b[0;36m<lambda>\u001b[0;34m(s)\u001b[0m\n\u001b[1;32m     56\u001b[0m         \u001b[0;32mreturn\u001b[0m \u001b[0malpha\u001b[0m\u001b[0;34m\u001b[0m\u001b[0m\n\u001b[1;32m     57\u001b[0m \u001b[0;34m\u001b[0m\u001b[0m\n\u001b[0;32m---> 58\u001b[0;31m     \u001b[0mA_final\u001b[0m \u001b[0;34m=\u001b[0m \u001b[0;32mlambda\u001b[0m \u001b[0ms\u001b[0m\u001b[0;34m:\u001b[0m \u001b[0mAlpha\u001b[0m\u001b[0;34m(\u001b[0m\u001b[0ms\u001b[0m\u001b[0;34m,\u001b[0m \u001b[0mK\u001b[0m\u001b[0;34m-\u001b[0m\u001b[0;36m1\u001b[0m\u001b[0;34m)\u001b[0m\u001b[0;34m\u001b[0m\u001b[0m\n\u001b[0m\u001b[1;32m     59\u001b[0m \u001b[0;34m\u001b[0m\u001b[0m\n\u001b[1;32m     60\u001b[0m \u001b[0;31m#     if d == 0:\u001b[0m\u001b[0;34m\u001b[0m\u001b[0;34m\u001b[0m\u001b[0m\n",
      "\u001b[0;32m<ipython-input-5-8617a3936d60>\u001b[0m in \u001b[0;36mAlpha\u001b[0;34m(s, k)\u001b[0m\n\u001b[1;32m     47\u001b[0m \u001b[0;34m\u001b[0m\u001b[0m\n\u001b[1;32m     48\u001b[0m     \u001b[0;32mdef\u001b[0m \u001b[0mAlpha\u001b[0m\u001b[0;34m(\u001b[0m\u001b[0ms\u001b[0m\u001b[0;34m,\u001b[0m \u001b[0mk\u001b[0m\u001b[0;34m)\u001b[0m\u001b[0;34m:\u001b[0m\u001b[0;34m\u001b[0m\u001b[0m\n\u001b[0;32m---> 49\u001b[0;31m         \u001b[0mGamma_k\u001b[0m \u001b[0;34m=\u001b[0m \u001b[0mGamma\u001b[0m\u001b[0;34m(\u001b[0m\u001b[0mk\u001b[0m\u001b[0;34m)\u001b[0m\u001b[0;34m\u001b[0m\u001b[0m\n\u001b[0m\u001b[1;32m     50\u001b[0m \u001b[0;34m\u001b[0m\u001b[0m\n\u001b[1;32m     51\u001b[0m         \u001b[0mconst\u001b[0m \u001b[0;34m=\u001b[0m \u001b[0ms\u001b[0m\u001b[0;34m**\u001b[0m\u001b[0my\u001b[0m\u001b[0;34m[\u001b[0m\u001b[0mk\u001b[0m\u001b[0;34m]\u001b[0m\u001b[0;34m\u001b[0m\u001b[0m\n",
      "\u001b[0;32m<ipython-input-5-8617a3936d60>\u001b[0m in \u001b[0;36mGamma\u001b[0;34m(k)\u001b[0m\n\u001b[1;32m     31\u001b[0m             \u001b[0mN_MOMENTS\u001b[0m \u001b[0;34m=\u001b[0m \u001b[0;36m2\u001b[0m\u001b[0;34m\u001b[0m\u001b[0m\n\u001b[1;32m     32\u001b[0m             \u001b[0mzero_gd\u001b[0m \u001b[0;34m=\u001b[0m \u001b[0mGDualType\u001b[0m\u001b[0;34m(\u001b[0m\u001b[0;36m0\u001b[0m\u001b[0;34m,\u001b[0m \u001b[0mq\u001b[0m \u001b[0;34m=\u001b[0m \u001b[0mN_MOMENTS\u001b[0m\u001b[0;34m,\u001b[0m \u001b[0mas_log\u001b[0m \u001b[0;34m=\u001b[0m \u001b[0;32mFalse\u001b[0m\u001b[0;34m)\u001b[0m\u001b[0;34m\u001b[0m\u001b[0m\n\u001b[0;32m---> 33\u001b[0;31m             \u001b[0mmoments\u001b[0m \u001b[0;34m=\u001b[0m \u001b[0mM_gamma_k\u001b[0m\u001b[0;34m(\u001b[0m\u001b[0mzero_gd\u001b[0m\u001b[0;34m)\u001b[0m\u001b[0;34m\u001b[0m\u001b[0m\n\u001b[0m\u001b[1;32m     34\u001b[0m             \u001b[0mset_trace\u001b[0m\u001b[0;34m(\u001b[0m\u001b[0;34m)\u001b[0m\u001b[0;34m\u001b[0m\u001b[0m\n\u001b[1;32m     35\u001b[0m             \u001b[0mmoments\u001b[0m \u001b[0;34m=\u001b[0m \u001b[0mmoments\u001b[0m\u001b[0;34m.\u001b[0m\u001b[0munwrap_coefs\u001b[0m\u001b[0;34m(\u001b[0m\u001b[0mmoments\u001b[0m\u001b[0;34m.\u001b[0m\u001b[0mcoefs\u001b[0m\u001b[0;34m,\u001b[0m \u001b[0mas_log\u001b[0m \u001b[0;34m=\u001b[0m \u001b[0;32mFalse\u001b[0m\u001b[0;34m)\u001b[0m\u001b[0;34m[\u001b[0m\u001b[0;36m1\u001b[0m\u001b[0;34m:\u001b[0m\u001b[0;34m]\u001b[0m \u001b[0;34m*\u001b[0m \u001b[0mfactorial\u001b[0m\u001b[0;34m(\u001b[0m\u001b[0mnp\u001b[0m\u001b[0;34m.\u001b[0m\u001b[0marange\u001b[0m\u001b[0;34m(\u001b[0m\u001b[0;36m1\u001b[0m\u001b[0;34m,\u001b[0m \u001b[0mN_MOMENTS\u001b[0m \u001b[0;34m+\u001b[0m \u001b[0;36m1\u001b[0m\u001b[0;34m)\u001b[0m\u001b[0;34m)\u001b[0m\u001b[0;34m\u001b[0m\u001b[0m\n",
      "\u001b[0;32m<ipython-input-5-8617a3936d60>\u001b[0m in \u001b[0;36m<lambda>\u001b[0;34m(t)\u001b[0m\n\u001b[1;32m     26\u001b[0m \u001b[0;34m\u001b[0m\u001b[0m\n\u001b[1;32m     27\u001b[0m             \u001b[0;31m# construct M_gamma_k, the MGF of gamma_k\u001b[0m\u001b[0;34m\u001b[0m\u001b[0;34m\u001b[0m\u001b[0m\n\u001b[0;32m---> 28\u001b[0;31m             \u001b[0mM_gamma_k\u001b[0m \u001b[0;34m=\u001b[0m \u001b[0;32mlambda\u001b[0m \u001b[0mt\u001b[0m\u001b[0;34m:\u001b[0m \u001b[0mGamma_k\u001b[0m\u001b[0;34m(\u001b[0m\u001b[0mnp\u001b[0m\u001b[0;34m.\u001b[0m\u001b[0mexp\u001b[0m\u001b[0;34m(\u001b[0m\u001b[0mt\u001b[0m\u001b[0;34m)\u001b[0m\u001b[0;34m)\u001b[0m\u001b[0;34m\u001b[0m\u001b[0m\n\u001b[0m\u001b[1;32m     29\u001b[0m \u001b[0;34m\u001b[0m\u001b[0m\n\u001b[1;32m     30\u001b[0m             \u001b[0;31m# compute the mean and variance of gamma_k via the first two moments of gamma_k\u001b[0m\u001b[0;34m\u001b[0m\u001b[0;34m\u001b[0m\u001b[0m\n",
      "\u001b[0;32m<ipython-input-5-8617a3936d60>\u001b[0m in \u001b[0;36m<lambda>\u001b[0;34m(u)\u001b[0m\n\u001b[1;32m     23\u001b[0m \u001b[0;34m\u001b[0m\u001b[0m\n\u001b[1;32m     24\u001b[0m             \u001b[0;31m# construct Gamma_k, the true PGF of gamma_k\u001b[0m\u001b[0;34m\u001b[0m\u001b[0;34m\u001b[0m\u001b[0m\n\u001b[0;32m---> 25\u001b[0;31m             \u001b[0mGamma_k\u001b[0m \u001b[0;34m=\u001b[0m \u001b[0;32mlambda\u001b[0m \u001b[0mu\u001b[0m\u001b[0;34m:\u001b[0m \u001b[0mAlpha_prev\u001b[0m\u001b[0;34m(\u001b[0m\u001b[0mF\u001b[0m\u001b[0;34m(\u001b[0m\u001b[0mu\u001b[0m\u001b[0;34m)\u001b[0m\u001b[0;34m)\u001b[0m \u001b[0;34m*\u001b[0m \u001b[0mG\u001b[0m\u001b[0;34m(\u001b[0m\u001b[0mu\u001b[0m\u001b[0;34m)\u001b[0m\u001b[0;34m\u001b[0m\u001b[0m\n\u001b[0m\u001b[1;32m     26\u001b[0m \u001b[0;34m\u001b[0m\u001b[0m\n\u001b[1;32m     27\u001b[0m             \u001b[0;31m# construct M_gamma_k, the MGF of gamma_k\u001b[0m\u001b[0;34m\u001b[0m\u001b[0;34m\u001b[0m\u001b[0m\n",
      "\u001b[0;32m<ipython-input-5-8617a3936d60>\u001b[0m in \u001b[0;36m<lambda>\u001b[0;34m(s)\u001b[0m\n\u001b[1;32m     17\u001b[0m                 \u001b[0mAlpha_prev\u001b[0m \u001b[0;34m=\u001b[0m \u001b[0;32mlambda\u001b[0m \u001b[0ms\u001b[0m\u001b[0;34m:\u001b[0m \u001b[0ms\u001b[0m \u001b[0;34m**\u001b[0m \u001b[0;36m0\u001b[0m\u001b[0;31m#1.0\u001b[0m\u001b[0;34m\u001b[0m\u001b[0m\n\u001b[1;32m     18\u001b[0m             \u001b[0;32melse\u001b[0m\u001b[0;34m:\u001b[0m\u001b[0;34m\u001b[0m\u001b[0m\n\u001b[0;32m---> 19\u001b[0;31m                 \u001b[0mAlpha_prev\u001b[0m \u001b[0;34m=\u001b[0m \u001b[0;32mlambda\u001b[0m \u001b[0ms\u001b[0m\u001b[0;34m:\u001b[0m \u001b[0mAlpha\u001b[0m\u001b[0;34m(\u001b[0m\u001b[0ms\u001b[0m\u001b[0;34m,\u001b[0m \u001b[0mk\u001b[0m\u001b[0;34m-\u001b[0m\u001b[0;36m1\u001b[0m\u001b[0;34m)\u001b[0m\u001b[0;34m\u001b[0m\u001b[0m\n\u001b[0m\u001b[1;32m     20\u001b[0m \u001b[0;34m\u001b[0m\u001b[0m\n\u001b[1;32m     21\u001b[0m             \u001b[0mF\u001b[0m \u001b[0;34m=\u001b[0m \u001b[0;32mlambda\u001b[0m \u001b[0mu\u001b[0m\u001b[0;34m:\u001b[0m   \u001b[0moffspring_pgf\u001b[0m\u001b[0;34m(\u001b[0m\u001b[0mu\u001b[0m\u001b[0;34m,\u001b[0m \u001b[0mtheta_offspring\u001b[0m\u001b[0;34m[\u001b[0m\u001b[0mk\u001b[0m\u001b[0;34m-\u001b[0m\u001b[0;36m1\u001b[0m\u001b[0;34m]\u001b[0m\u001b[0;34m)\u001b[0m\u001b[0;34m\u001b[0m\u001b[0m\n",
      "\u001b[0;32m<ipython-input-5-8617a3936d60>\u001b[0m in \u001b[0;36mAlpha\u001b[0;34m(s, k)\u001b[0m\n\u001b[1;32m     47\u001b[0m \u001b[0;34m\u001b[0m\u001b[0m\n\u001b[1;32m     48\u001b[0m     \u001b[0;32mdef\u001b[0m \u001b[0mAlpha\u001b[0m\u001b[0;34m(\u001b[0m\u001b[0ms\u001b[0m\u001b[0;34m,\u001b[0m \u001b[0mk\u001b[0m\u001b[0;34m)\u001b[0m\u001b[0;34m:\u001b[0m\u001b[0;34m\u001b[0m\u001b[0m\n\u001b[0;32m---> 49\u001b[0;31m         \u001b[0mGamma_k\u001b[0m \u001b[0;34m=\u001b[0m \u001b[0mGamma\u001b[0m\u001b[0;34m(\u001b[0m\u001b[0mk\u001b[0m\u001b[0;34m)\u001b[0m\u001b[0;34m\u001b[0m\u001b[0m\n\u001b[0m\u001b[1;32m     50\u001b[0m \u001b[0;34m\u001b[0m\u001b[0m\n\u001b[1;32m     51\u001b[0m         \u001b[0mconst\u001b[0m \u001b[0;34m=\u001b[0m \u001b[0ms\u001b[0m\u001b[0;34m**\u001b[0m\u001b[0my\u001b[0m\u001b[0;34m[\u001b[0m\u001b[0mk\u001b[0m\u001b[0;34m]\u001b[0m\u001b[0;34m\u001b[0m\u001b[0m\n",
      "\u001b[0;32m<ipython-input-5-8617a3936d60>\u001b[0m in \u001b[0;36mGamma\u001b[0;34m(k)\u001b[0m\n\u001b[1;32m     31\u001b[0m             \u001b[0mN_MOMENTS\u001b[0m \u001b[0;34m=\u001b[0m \u001b[0;36m2\u001b[0m\u001b[0;34m\u001b[0m\u001b[0m\n\u001b[1;32m     32\u001b[0m             \u001b[0mzero_gd\u001b[0m \u001b[0;34m=\u001b[0m \u001b[0mGDualType\u001b[0m\u001b[0;34m(\u001b[0m\u001b[0;36m0\u001b[0m\u001b[0;34m,\u001b[0m \u001b[0mq\u001b[0m \u001b[0;34m=\u001b[0m \u001b[0mN_MOMENTS\u001b[0m\u001b[0;34m,\u001b[0m \u001b[0mas_log\u001b[0m \u001b[0;34m=\u001b[0m \u001b[0;32mFalse\u001b[0m\u001b[0;34m)\u001b[0m\u001b[0;34m\u001b[0m\u001b[0m\n\u001b[0;32m---> 33\u001b[0;31m             \u001b[0mmoments\u001b[0m \u001b[0;34m=\u001b[0m \u001b[0mM_gamma_k\u001b[0m\u001b[0;34m(\u001b[0m\u001b[0mzero_gd\u001b[0m\u001b[0;34m)\u001b[0m\u001b[0;34m\u001b[0m\u001b[0m\n\u001b[0m\u001b[1;32m     34\u001b[0m             \u001b[0mset_trace\u001b[0m\u001b[0;34m(\u001b[0m\u001b[0;34m)\u001b[0m\u001b[0;34m\u001b[0m\u001b[0m\n\u001b[1;32m     35\u001b[0m             \u001b[0mmoments\u001b[0m \u001b[0;34m=\u001b[0m \u001b[0mmoments\u001b[0m\u001b[0;34m.\u001b[0m\u001b[0munwrap_coefs\u001b[0m\u001b[0;34m(\u001b[0m\u001b[0mmoments\u001b[0m\u001b[0;34m.\u001b[0m\u001b[0mcoefs\u001b[0m\u001b[0;34m,\u001b[0m \u001b[0mas_log\u001b[0m \u001b[0;34m=\u001b[0m \u001b[0;32mFalse\u001b[0m\u001b[0;34m)\u001b[0m\u001b[0;34m[\u001b[0m\u001b[0;36m1\u001b[0m\u001b[0;34m:\u001b[0m\u001b[0;34m]\u001b[0m \u001b[0;34m*\u001b[0m \u001b[0mfactorial\u001b[0m\u001b[0;34m(\u001b[0m\u001b[0mnp\u001b[0m\u001b[0;34m.\u001b[0m\u001b[0marange\u001b[0m\u001b[0;34m(\u001b[0m\u001b[0;36m1\u001b[0m\u001b[0;34m,\u001b[0m \u001b[0mN_MOMENTS\u001b[0m \u001b[0;34m+\u001b[0m \u001b[0;36m1\u001b[0m\u001b[0;34m)\u001b[0m\u001b[0;34m)\u001b[0m\u001b[0;34m\u001b[0m\u001b[0m\n",
      "\u001b[0;32m<ipython-input-5-8617a3936d60>\u001b[0m in \u001b[0;36m<lambda>\u001b[0;34m(t)\u001b[0m\n\u001b[1;32m     26\u001b[0m \u001b[0;34m\u001b[0m\u001b[0m\n\u001b[1;32m     27\u001b[0m             \u001b[0;31m# construct M_gamma_k, the MGF of gamma_k\u001b[0m\u001b[0;34m\u001b[0m\u001b[0;34m\u001b[0m\u001b[0m\n\u001b[0;32m---> 28\u001b[0;31m             \u001b[0mM_gamma_k\u001b[0m \u001b[0;34m=\u001b[0m \u001b[0;32mlambda\u001b[0m \u001b[0mt\u001b[0m\u001b[0;34m:\u001b[0m \u001b[0mGamma_k\u001b[0m\u001b[0;34m(\u001b[0m\u001b[0mnp\u001b[0m\u001b[0;34m.\u001b[0m\u001b[0mexp\u001b[0m\u001b[0;34m(\u001b[0m\u001b[0mt\u001b[0m\u001b[0;34m)\u001b[0m\u001b[0;34m)\u001b[0m\u001b[0;34m\u001b[0m\u001b[0m\n\u001b[0m\u001b[1;32m     29\u001b[0m \u001b[0;34m\u001b[0m\u001b[0m\n\u001b[1;32m     30\u001b[0m             \u001b[0;31m# compute the mean and variance of gamma_k via the first two moments of gamma_k\u001b[0m\u001b[0;34m\u001b[0m\u001b[0;34m\u001b[0m\u001b[0m\n",
      "\u001b[0;32m<ipython-input-5-8617a3936d60>\u001b[0m in \u001b[0;36m<lambda>\u001b[0;34m(u)\u001b[0m\n\u001b[1;32m     23\u001b[0m \u001b[0;34m\u001b[0m\u001b[0m\n\u001b[1;32m     24\u001b[0m             \u001b[0;31m# construct Gamma_k, the true PGF of gamma_k\u001b[0m\u001b[0;34m\u001b[0m\u001b[0;34m\u001b[0m\u001b[0m\n\u001b[0;32m---> 25\u001b[0;31m             \u001b[0mGamma_k\u001b[0m \u001b[0;34m=\u001b[0m \u001b[0;32mlambda\u001b[0m \u001b[0mu\u001b[0m\u001b[0;34m:\u001b[0m \u001b[0mAlpha_prev\u001b[0m\u001b[0;34m(\u001b[0m\u001b[0mF\u001b[0m\u001b[0;34m(\u001b[0m\u001b[0mu\u001b[0m\u001b[0;34m)\u001b[0m\u001b[0;34m)\u001b[0m \u001b[0;34m*\u001b[0m \u001b[0mG\u001b[0m\u001b[0;34m(\u001b[0m\u001b[0mu\u001b[0m\u001b[0;34m)\u001b[0m\u001b[0;34m\u001b[0m\u001b[0m\n\u001b[0m\u001b[1;32m     26\u001b[0m \u001b[0;34m\u001b[0m\u001b[0m\n\u001b[1;32m     27\u001b[0m             \u001b[0;31m# construct M_gamma_k, the MGF of gamma_k\u001b[0m\u001b[0;34m\u001b[0m\u001b[0;34m\u001b[0m\u001b[0m\n",
      "\u001b[0;32m<ipython-input-5-8617a3936d60>\u001b[0m in \u001b[0;36m<lambda>\u001b[0;34m(s)\u001b[0m\n\u001b[1;32m     17\u001b[0m                 \u001b[0mAlpha_prev\u001b[0m \u001b[0;34m=\u001b[0m \u001b[0;32mlambda\u001b[0m \u001b[0ms\u001b[0m\u001b[0;34m:\u001b[0m \u001b[0ms\u001b[0m \u001b[0;34m**\u001b[0m \u001b[0;36m0\u001b[0m\u001b[0;31m#1.0\u001b[0m\u001b[0;34m\u001b[0m\u001b[0m\n\u001b[1;32m     18\u001b[0m             \u001b[0;32melse\u001b[0m\u001b[0;34m:\u001b[0m\u001b[0;34m\u001b[0m\u001b[0m\n\u001b[0;32m---> 19\u001b[0;31m                 \u001b[0mAlpha_prev\u001b[0m \u001b[0;34m=\u001b[0m \u001b[0;32mlambda\u001b[0m \u001b[0ms\u001b[0m\u001b[0;34m:\u001b[0m \u001b[0mAlpha\u001b[0m\u001b[0;34m(\u001b[0m\u001b[0ms\u001b[0m\u001b[0;34m,\u001b[0m \u001b[0mk\u001b[0m\u001b[0;34m-\u001b[0m\u001b[0;36m1\u001b[0m\u001b[0;34m)\u001b[0m\u001b[0;34m\u001b[0m\u001b[0m\n\u001b[0m\u001b[1;32m     20\u001b[0m \u001b[0;34m\u001b[0m\u001b[0m\n\u001b[1;32m     21\u001b[0m             \u001b[0mF\u001b[0m \u001b[0;34m=\u001b[0m \u001b[0;32mlambda\u001b[0m \u001b[0mu\u001b[0m\u001b[0;34m:\u001b[0m   \u001b[0moffspring_pgf\u001b[0m\u001b[0;34m(\u001b[0m\u001b[0mu\u001b[0m\u001b[0;34m,\u001b[0m \u001b[0mtheta_offspring\u001b[0m\u001b[0;34m[\u001b[0m\u001b[0mk\u001b[0m\u001b[0;34m-\u001b[0m\u001b[0;36m1\u001b[0m\u001b[0;34m]\u001b[0m\u001b[0;34m)\u001b[0m\u001b[0;34m\u001b[0m\u001b[0m\n",
      "\u001b[0;32m<ipython-input-5-8617a3936d60>\u001b[0m in \u001b[0;36mAlpha\u001b[0;34m(s, k)\u001b[0m\n\u001b[1;32m     47\u001b[0m \u001b[0;34m\u001b[0m\u001b[0m\n\u001b[1;32m     48\u001b[0m     \u001b[0;32mdef\u001b[0m \u001b[0mAlpha\u001b[0m\u001b[0;34m(\u001b[0m\u001b[0ms\u001b[0m\u001b[0;34m,\u001b[0m \u001b[0mk\u001b[0m\u001b[0;34m)\u001b[0m\u001b[0;34m:\u001b[0m\u001b[0;34m\u001b[0m\u001b[0m\n\u001b[0;32m---> 49\u001b[0;31m         \u001b[0mGamma_k\u001b[0m \u001b[0;34m=\u001b[0m \u001b[0mGamma\u001b[0m\u001b[0;34m(\u001b[0m\u001b[0mk\u001b[0m\u001b[0;34m)\u001b[0m\u001b[0;34m\u001b[0m\u001b[0m\n\u001b[0m\u001b[1;32m     50\u001b[0m \u001b[0;34m\u001b[0m\u001b[0m\n\u001b[1;32m     51\u001b[0m         \u001b[0mconst\u001b[0m \u001b[0;34m=\u001b[0m \u001b[0ms\u001b[0m\u001b[0;34m**\u001b[0m\u001b[0my\u001b[0m\u001b[0;34m[\u001b[0m\u001b[0mk\u001b[0m\u001b[0;34m]\u001b[0m\u001b[0;34m\u001b[0m\u001b[0m\n",
      "\u001b[0;32m<ipython-input-5-8617a3936d60>\u001b[0m in \u001b[0;36mGamma\u001b[0;34m(k)\u001b[0m\n\u001b[1;32m     33\u001b[0m             \u001b[0mmoments\u001b[0m \u001b[0;34m=\u001b[0m \u001b[0mM_gamma_k\u001b[0m\u001b[0;34m(\u001b[0m\u001b[0mzero_gd\u001b[0m\u001b[0;34m)\u001b[0m\u001b[0;34m\u001b[0m\u001b[0m\n\u001b[1;32m     34\u001b[0m             \u001b[0mset_trace\u001b[0m\u001b[0;34m(\u001b[0m\u001b[0;34m)\u001b[0m\u001b[0;34m\u001b[0m\u001b[0m\n\u001b[0;32m---> 35\u001b[0;31m             \u001b[0mmoments\u001b[0m \u001b[0;34m=\u001b[0m \u001b[0mmoments\u001b[0m\u001b[0;34m.\u001b[0m\u001b[0munwrap_coefs\u001b[0m\u001b[0;34m(\u001b[0m\u001b[0mmoments\u001b[0m\u001b[0;34m.\u001b[0m\u001b[0mcoefs\u001b[0m\u001b[0;34m,\u001b[0m \u001b[0mas_log\u001b[0m \u001b[0;34m=\u001b[0m \u001b[0;32mFalse\u001b[0m\u001b[0;34m)\u001b[0m\u001b[0;34m[\u001b[0m\u001b[0;36m1\u001b[0m\u001b[0;34m:\u001b[0m\u001b[0;34m]\u001b[0m \u001b[0;34m*\u001b[0m \u001b[0mfactorial\u001b[0m\u001b[0;34m(\u001b[0m\u001b[0mnp\u001b[0m\u001b[0;34m.\u001b[0m\u001b[0marange\u001b[0m\u001b[0;34m(\u001b[0m\u001b[0;36m1\u001b[0m\u001b[0;34m,\u001b[0m \u001b[0mN_MOMENTS\u001b[0m \u001b[0;34m+\u001b[0m \u001b[0;36m1\u001b[0m\u001b[0;34m)\u001b[0m\u001b[0;34m)\u001b[0m\u001b[0;34m\u001b[0m\u001b[0m\n\u001b[0m\u001b[1;32m     36\u001b[0m \u001b[0;34m\u001b[0m\u001b[0m\n\u001b[1;32m     37\u001b[0m             \u001b[0mmean_gamma_k\u001b[0m \u001b[0;34m=\u001b[0m \u001b[0mmoments\u001b[0m\u001b[0;34m[\u001b[0m\u001b[0;36m0\u001b[0m\u001b[0;34m]\u001b[0m\u001b[0;34m\u001b[0m\u001b[0m\n",
      "\u001b[0;32m<ipython-input-5-8617a3936d60>\u001b[0m in \u001b[0;36mGamma\u001b[0;34m(k)\u001b[0m\n\u001b[1;32m     33\u001b[0m             \u001b[0mmoments\u001b[0m \u001b[0;34m=\u001b[0m \u001b[0mM_gamma_k\u001b[0m\u001b[0;34m(\u001b[0m\u001b[0mzero_gd\u001b[0m\u001b[0;34m)\u001b[0m\u001b[0;34m\u001b[0m\u001b[0m\n\u001b[1;32m     34\u001b[0m             \u001b[0mset_trace\u001b[0m\u001b[0;34m(\u001b[0m\u001b[0;34m)\u001b[0m\u001b[0;34m\u001b[0m\u001b[0m\n\u001b[0;32m---> 35\u001b[0;31m             \u001b[0mmoments\u001b[0m \u001b[0;34m=\u001b[0m \u001b[0mmoments\u001b[0m\u001b[0;34m.\u001b[0m\u001b[0munwrap_coefs\u001b[0m\u001b[0;34m(\u001b[0m\u001b[0mmoments\u001b[0m\u001b[0;34m.\u001b[0m\u001b[0mcoefs\u001b[0m\u001b[0;34m,\u001b[0m \u001b[0mas_log\u001b[0m \u001b[0;34m=\u001b[0m \u001b[0;32mFalse\u001b[0m\u001b[0;34m)\u001b[0m\u001b[0;34m[\u001b[0m\u001b[0;36m1\u001b[0m\u001b[0;34m:\u001b[0m\u001b[0;34m]\u001b[0m \u001b[0;34m*\u001b[0m \u001b[0mfactorial\u001b[0m\u001b[0;34m(\u001b[0m\u001b[0mnp\u001b[0m\u001b[0;34m.\u001b[0m\u001b[0marange\u001b[0m\u001b[0;34m(\u001b[0m\u001b[0;36m1\u001b[0m\u001b[0;34m,\u001b[0m \u001b[0mN_MOMENTS\u001b[0m \u001b[0;34m+\u001b[0m \u001b[0;36m1\u001b[0m\u001b[0;34m)\u001b[0m\u001b[0;34m)\u001b[0m\u001b[0;34m\u001b[0m\u001b[0m\n\u001b[0m\u001b[1;32m     36\u001b[0m \u001b[0;34m\u001b[0m\u001b[0m\n\u001b[1;32m     37\u001b[0m             \u001b[0mmean_gamma_k\u001b[0m \u001b[0;34m=\u001b[0m \u001b[0mmoments\u001b[0m\u001b[0;34m[\u001b[0m\u001b[0;36m0\u001b[0m\u001b[0;34m]\u001b[0m\u001b[0;34m\u001b[0m\u001b[0m\n",
      "\u001b[0;32m~/anaconda/lib/python3.6/bdb.py\u001b[0m in \u001b[0;36mtrace_dispatch\u001b[0;34m(self, frame, event, arg)\u001b[0m\n\u001b[1;32m     46\u001b[0m             \u001b[0;32mreturn\u001b[0m \u001b[0;31m# None\u001b[0m\u001b[0;34m\u001b[0m\u001b[0m\n\u001b[1;32m     47\u001b[0m         \u001b[0;32mif\u001b[0m \u001b[0mevent\u001b[0m \u001b[0;34m==\u001b[0m \u001b[0;34m'line'\u001b[0m\u001b[0;34m:\u001b[0m\u001b[0;34m\u001b[0m\u001b[0m\n\u001b[0;32m---> 48\u001b[0;31m             \u001b[0;32mreturn\u001b[0m \u001b[0mself\u001b[0m\u001b[0;34m.\u001b[0m\u001b[0mdispatch_line\u001b[0m\u001b[0;34m(\u001b[0m\u001b[0mframe\u001b[0m\u001b[0;34m)\u001b[0m\u001b[0;34m\u001b[0m\u001b[0m\n\u001b[0m\u001b[1;32m     49\u001b[0m         \u001b[0;32mif\u001b[0m \u001b[0mevent\u001b[0m \u001b[0;34m==\u001b[0m \u001b[0;34m'call'\u001b[0m\u001b[0;34m:\u001b[0m\u001b[0;34m\u001b[0m\u001b[0m\n\u001b[1;32m     50\u001b[0m             \u001b[0;32mreturn\u001b[0m \u001b[0mself\u001b[0m\u001b[0;34m.\u001b[0m\u001b[0mdispatch_call\u001b[0m\u001b[0;34m(\u001b[0m\u001b[0mframe\u001b[0m\u001b[0;34m,\u001b[0m \u001b[0marg\u001b[0m\u001b[0;34m)\u001b[0m\u001b[0;34m\u001b[0m\u001b[0m\n",
      "\u001b[0;32m~/anaconda/lib/python3.6/bdb.py\u001b[0m in \u001b[0;36mdispatch_line\u001b[0;34m(self, frame)\u001b[0m\n\u001b[1;32m     65\u001b[0m         \u001b[0;32mif\u001b[0m \u001b[0mself\u001b[0m\u001b[0;34m.\u001b[0m\u001b[0mstop_here\u001b[0m\u001b[0;34m(\u001b[0m\u001b[0mframe\u001b[0m\u001b[0;34m)\u001b[0m \u001b[0;32mor\u001b[0m \u001b[0mself\u001b[0m\u001b[0;34m.\u001b[0m\u001b[0mbreak_here\u001b[0m\u001b[0;34m(\u001b[0m\u001b[0mframe\u001b[0m\u001b[0;34m)\u001b[0m\u001b[0;34m:\u001b[0m\u001b[0;34m\u001b[0m\u001b[0m\n\u001b[1;32m     66\u001b[0m             \u001b[0mself\u001b[0m\u001b[0;34m.\u001b[0m\u001b[0muser_line\u001b[0m\u001b[0;34m(\u001b[0m\u001b[0mframe\u001b[0m\u001b[0;34m)\u001b[0m\u001b[0;34m\u001b[0m\u001b[0m\n\u001b[0;32m---> 67\u001b[0;31m             \u001b[0;32mif\u001b[0m \u001b[0mself\u001b[0m\u001b[0;34m.\u001b[0m\u001b[0mquitting\u001b[0m\u001b[0;34m:\u001b[0m \u001b[0;32mraise\u001b[0m \u001b[0mBdbQuit\u001b[0m\u001b[0;34m\u001b[0m\u001b[0m\n\u001b[0m\u001b[1;32m     68\u001b[0m         \u001b[0;32mreturn\u001b[0m \u001b[0mself\u001b[0m\u001b[0;34m.\u001b[0m\u001b[0mtrace_dispatch\u001b[0m\u001b[0;34m\u001b[0m\u001b[0m\n\u001b[1;32m     69\u001b[0m \u001b[0;34m\u001b[0m\u001b[0m\n",
      "\u001b[0;31mBdbQuit\u001b[0m: "
     ]
    }
   ],
   "source": [
    "def APGF_forward(y,\n",
    "                 immigration_pgf,\n",
    "                 theta_immigration,\n",
    "                 offspring_pgf,\n",
    "                 theta_offspring,\n",
    "                 rho,\n",
    "                 GDualType=gd.LSGDual):\n",
    "    K = len(y)\n",
    "    \n",
    "    A     = [None] * K # list of PGF function objects for each alpha message\n",
    "    Gamma_hat = [None] * K # list of approximate Gamma PGFs\n",
    "    \n",
    "    # return Gamma_hat[k] if cached, otherwise compute it\n",
    "    def Gamma(k):\n",
    "        if Gamma_hat[k] is None:\n",
    "            if k <= 0:\n",
    "                Alpha_prev = lambda s: s ** 0#1.0\n",
    "            else:\n",
    "                Alpha_prev = lambda s: Alpha(s, k-1)\n",
    "            \n",
    "            F = lambda u:   offspring_pgf(u, theta_offspring[k-1])\n",
    "            G = lambda u: immigration_pgf(u, theta_immigration[k])\n",
    "            \n",
    "            # construct Gamma_k, the true PGF of gamma_k\n",
    "            Gamma_k = lambda u: Alpha_prev(F(u)) * G(u)\n",
    "            \n",
    "            # construct M_gamma_k, the MGF of gamma_k\n",
    "            M_gamma_k = lambda t: Gamma_k(np.exp(t))\n",
    "            \n",
    "            # compute the mean and variance of gamma_k via the first two moments of gamma_k\n",
    "            N_MOMENTS = 2\n",
    "            zero_gd = GDualType(0, q = N_MOMENTS, as_log = False)\n",
    "            moments = M_gamma_k(zero_gd)\n",
    "            set_trace()\n",
    "            moments = moments.unwrap_coefs(moments.coefs, as_log = False)[1:] * factorial(np.arange(1, N_MOMENTS + 1))\n",
    "\n",
    "            mean_gamma_k = moments[0]\n",
    "            var_gamma_k  = moments[1] - (moments[0] ** 2)\n",
    "            \n",
    "            # use the mean and variance to select and build an approximate PGF\n",
    "            if mean_gamma_k == var_gamma_k:\n",
    "                Gamma_hat[k] = APGF_Poiss(mean_gamma_k)\n",
    "            else:\n",
    "                Gamma_hat[k] = APGF_NB(mean_gamma_k, var_gamma_k)\n",
    "        \n",
    "        return Gamma_hat[k]\n",
    "    \n",
    "    def Alpha(s, k):\n",
    "        Gamma_k = Gamma(k)\n",
    "        \n",
    "        const = s**y[k]\n",
    "        const *= GDualType.const(y[k]*np.log(rho[k]) - gammaln(y[k] + 1), as_log=True)\n",
    "        alpha = const * fwd.diff(Gamma_k, s*(1 - rho[k]), y[k], GDualType=GDualType )\n",
    "        alpha.trunc_neg_coefs()\n",
    "        A[k] = alpha\n",
    "        return alpha\n",
    "    \n",
    "    A_final = lambda s: Alpha(s, K-1)\n",
    "    \n",
    "#     if d == 0:\n",
    "#         alpha = A_final( 1.0 )\n",
    "#     else:\n",
    "#         alpha = A_final( GDualType(1.0, d) )\n",
    "    alpha = A_final( GDualType(1.0, 1) )\n",
    "    \n",
    "    logZ = alpha.get(0, as_log=True)\n",
    "\n",
    "    def marginals(k):\n",
    "        a  = A_final( GDualType(0.0, k) )\n",
    "        a /= GDualType.const(logZ, as_log=True)\n",
    "        return a\n",
    "        \n",
    "    \n",
    "    return logZ, alpha, marginals\n",
    "\n",
    "y     = np.array([3,2,4])\n",
    "lmbda = np.array([5,5,5]).reshape(-1,1)\n",
    "delta = np.array([0.4, 0.4]).reshape(-1,1)\n",
    "rho   = np.array([0.25, 0.25, 0.25])\n",
    "\n",
    "logZ, alpha, marginals = APGF_forward(y,\n",
    "                                     fwd.poisson_pgf,\n",
    "                                     lmbda,\n",
    "                                     fwd.bernoulli_pgf,\n",
    "                                     delta,\n",
    "                                     rho,\n",
    "                                     GDualType=gd.LSGDual)\n"
   ]
  },
  {
   "cell_type": "code",
   "execution_count": 10,
   "metadata": {},
   "outputs": [
    {
     "name": "stdout",
     "output_type": "stream",
     "text": [
      "([<function APGF_Forward.<locals>.<lambda> at 0x11980d620>, <function APGF_Forward.<locals>.<lambda> at 0x11980d510>, <function APGF_Forward.<locals>.<lambda> at 0x1198250d0>, <function APGF_Forward.<locals>.<lambda> at 0x11980df28>], [1.0, array([ 0.09326328]), array([  6.93867195e-05])])\n"
     ]
    },
    {
     "name": "stderr",
     "output_type": "stream",
     "text": [
      "/Users/kwinner/Work/latentcountmodels/python/forward.py:9: RuntimeWarning: divide by zero encountered in exp\n",
      "  return np.exp(lmbda * (s - 1))\n"
     ]
    }
   ],
   "source": [
    "# from IPython.core.debugger import set_trace\n",
    "\n",
    "GDualType = gd.LSGDual\n",
    "\n",
    "# def Gamma_k_builder(Alpha_k, F_k, G_k):\n",
    "#     def Gamma_k(u_k): \n",
    "#         res = Alpha_k(F_k(u_k)) * G_k(u_k)\n",
    "#         return res\n",
    "#     return Gamma_k\n",
    "\n",
    "# def Alpha_k_builder(Gamma_k, rho_k, y_k):\n",
    "#     def Alpha_k(s_k):\n",
    "#         const = s_k ** y_k\n",
    "#         const *= GDualType.const(y_k * np.log(rho_k) - gammaln(y_k + 1), as_log = True)\n",
    "#         res   = const * fwd.diff(Gamma_k, s*(1 - rho_k), y_k, GDualType = GDualType)\n",
    "#         return res\n",
    "#     return Alpha_k\n",
    "\n",
    "def APGF_Forward(y,\n",
    "                 immigration_pgf,\n",
    "                 theta_immigration,\n",
    "                 offspring_pgf,\n",
    "                 theta_offspring,\n",
    "                 rho):\n",
    "    def Gamma_k(u_k, Alpha_PGF, k):\n",
    "        #F(.) = offspring_pgf(u_k, theta_offspring[k-1])\n",
    "        #G(.) = immigration_pgf(u_k, theta_immigration[k])\n",
    "#         print(offspring_pgf(u_k, theta_offspring[k-1]))\n",
    "        res = Alpha_PGF(offspring_pgf(u_k, theta_offspring[k-1])) * immigration_pgf(u_k, theta_immigration[k])\n",
    "        return res\n",
    "    \n",
    "    def Alpha_k(s_k, Gamma_PGF, k):\n",
    "        const = (s_k * rho[k])**y[k] / factorial(y[k])\n",
    "#         print(Gamma_PGF)\n",
    "        res = const * fwd.diff(Gamma_PGF, s_k*(1 - rho[k]), y[k], GDualType=GDualType)\n",
    "        return res\n",
    "    \n",
    "    K = len(y)\n",
    "    \n",
    "    Gamma_PGFs = [None] * K\n",
    "    Alpha_PGFs = [None] * (K+1)\n",
    "    Z = [None] * K\n",
    "    Alpha_PGFs[0] = lambda s_k: 1\n",
    "    \n",
    "    for i in range(K):\n",
    "#         print(i)\n",
    "        Gamma = lambda u_k,k=i: Gamma_k(u_k, Alpha_PGFs[k], k)\n",
    "        res = APGF(Gamma)\n",
    "        Gamma_PGFs[i] = res[0]\n",
    "#         Gamma_PGFs[i] = lambda s: res[1] * res[0](s)\n",
    "        Z[i] = res[1]\n",
    "        \n",
    "#         set_trace()\n",
    "        \n",
    "#         Gamma_PGFs[i] = APGF(Gamma)\n",
    "        \n",
    "        \n",
    "#         print(\"%d.5\"%i)\n",
    "#         print(Gamma_PGFs)\n",
    "#         print(Alpha_PGFs)\n",
    "        \n",
    "        Alpha_PGFs[i+1] = lambda s_k,k=i: Alpha_k(s_k, Gamma_PGFs[k], k)\n",
    "    \n",
    "    return Alpha_PGFs, Z\n",
    "\n",
    "y     = np.array([3,2,4])\n",
    "lmbda = np.array([5,5,5]).reshape(-1,1)\n",
    "delta = np.array([0.4, 0.4]).reshape(-1,1)\n",
    "rho   = np.array([0.25, 0.25, 0.25])\n",
    "\n",
    "res = APGF_Forward(y,\n",
    "                   fwd.poisson_pgf,\n",
    "                   lmbda,\n",
    "                   fwd.bernoulli_pgf,\n",
    "                   delta,\n",
    "                   rho)\n",
    "\n",
    "# print(res[0][-1](1))\n",
    "print(res)\n",
    "\n",
    "# print(np.log(res[-1](1)))"
   ]
  },
  {
   "cell_type": "code",
   "execution_count": 9,
   "metadata": {},
   "outputs": [
    {
     "name": "stdout",
     "output_type": "stream",
     "text": [
      "(-6.0515733053769445, array([ 0.00235416]), <function forward.<locals>.marginals at 0x1197dea60>)\n"
     ]
    },
    {
     "name": "stderr",
     "output_type": "stream",
     "text": [
      "/Users/kwinner/Work/latentcountmodels/python/forward.py:9: RuntimeWarning: divide by zero encountered in exp\n",
      "  return np.exp(lmbda * (s - 1))\n"
     ]
    }
   ],
   "source": [
    "res2 = fwd.forward(y,\n",
    "                   fwd.poisson_pgf,\n",
    "                   lmbda,\n",
    "                   fwd.bernoulli_pgf,\n",
    "                   delta,\n",
    "                   rho)\n",
    "print(res2)"
   ]
  },
  {
   "cell_type": "code",
   "execution_count": null,
   "metadata": {
    "collapsed": true
   },
   "outputs": [],
   "source": [
    "np.exp(5 * (gd.LSGDual.const(1) - 1))"
   ]
  },
  {
   "cell_type": "code",
   "execution_count": 6,
   "metadata": {},
   "outputs": [
    {
     "name": "stdout",
     "output_type": "stream",
     "text": [
      "[-35.66865295]\n"
     ]
    },
    {
     "name": "stderr",
     "output_type": "stream",
     "text": [
      "/Users/kwinner/anaconda/lib/python3.6/site-packages/ipykernel_launcher.py:1: RuntimeWarning: divide by zero encountered in log\n",
      "  \"\"\"Entry point for launching an IPython kernel.\n"
     ]
    }
   ],
   "source": [
    "print(np.sum([np.log(x) for x in res[1]]) + np.log(res[0][-1](1)))"
   ]
  },
  {
   "cell_type": "code",
   "execution_count": null,
   "metadata": {
    "collapsed": true
   },
   "outputs": [],
   "source": []
  }
 ],
 "metadata": {
  "kernelspec": {
   "display_name": "Python 3",
   "language": "python",
   "name": "python3"
  },
  "language_info": {
   "codemirror_mode": {
    "name": "ipython",
    "version": 3
   },
   "file_extension": ".py",
   "mimetype": "text/x-python",
   "name": "python",
   "nbconvert_exporter": "python",
   "pygments_lexer": "ipython3",
   "version": "3.6.3"
  }
 },
 "nbformat": 4,
 "nbformat_minor": 2
}
