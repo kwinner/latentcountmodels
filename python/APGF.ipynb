{
 "cells": [
  {
   "cell_type": "code",
   "execution_count": 12,
   "metadata": {},
   "outputs": [
    {
     "name": "stdout",
     "output_type": "stream",
     "text": [
      "[ 1.00004     4.00008     4.00005333  1.77779556  0.32847798]\n",
      "[  1.00004      4.00016      8.00032001  10.66709334  10.66709334]\n"
     ]
    }
   ],
   "source": [
    "# non logspace version of apgf\n",
    "\n",
    "from IPython.core.debugger import set_trace\n",
    "\n",
    "import numpy as np\n",
    "from scipy.misc import factorial\n",
    "\n",
    "import gdual as gd\n",
    "import forward as fwd #for PGFs only\n",
    "\n",
    "# F: the PGF to be approximated\n",
    "# k: the \n",
    "def apgf(F, k, a = 1, lmbda = None):\n",
    "    i = np.arange(k + 1)\n",
    "    nums = F(gd.GDual(a, q = k, as_log=False))    \n",
    "    denoms = factorial(i)\n",
    "    \n",
    "    coefs = nums.coefs / denoms\n",
    "    \n",
    "    if lmbda is None:\n",
    "        lmbda = nums.coefs[-1]\n",
    "\n",
    "    def R(a, k, lmbda):\n",
    "        def R_callback(s):\n",
    "            nums_R = list(map(lambda i: (s - a) ** i, i))\n",
    "\n",
    "            return(lmbda * (np.exp(s - a) - np.sum(nums_R / denoms)))\n",
    "\n",
    "        return(R_callback)\n",
    "        \n",
    "    R_fun = R(a, k, lmbda)\n",
    "    \n",
    "    def apgf_callback(s):\n",
    "        terms = list(map(lambda i: (s - a) ** i, i))\n",
    "        \n",
    "#         set_trace()\n",
    "        \n",
    "        return(np.sum(coefs * terms) + R_fun(s))\n",
    "    \n",
    "    return apgf_callback\n",
    "\n",
    "# theta = [14, 0.4]\n",
    "theta = [4]\n",
    "k = 10\n",
    "a = 1\n",
    "G = apgf(lambda s: fwd.poisson_pgf(s, theta), k, a)\n",
    "\n",
    "a_gd = gd.GDual(1+0.00001, q = 4, as_log=False)\n",
    "derivs = G(a_gd)\n",
    "\n",
    "print(derivs)\n",
    "\n",
    "derivs_2 = fwd.poisson_pgf(a_gd, theta)\n",
    "\n",
    "print(derivs_2)"
   ]
  },
  {
   "cell_type": "code",
   "execution_count": null,
   "metadata": {},
   "outputs": [],
   "source": [
    "import numpy as np\n",
    "\n",
    "print(np.sum(2 ** np.arange(4 + 1)))\n",
    "print(np.sum(list(map(lambda i: 2 ** i, np.arange(4 + 1)))))"
   ]
  },
  {
   "cell_type": "markdown",
   "metadata": {},
   "source": [
    "### Testing below"
   ]
  },
  {
   "cell_type": "code",
   "execution_count": null,
   "metadata": {
    "collapsed": true
   },
   "outputs": [],
   "source": [
    "import numpy as np\n",
    "from scipy.misc import factorial\n",
    "\n",
    "import gdual as gd\n",
    "import forward as fwd"
   ]
  },
  {
   "cell_type": "code",
   "execution_count": null,
   "metadata": {},
   "outputs": [],
   "source": [
    "theta = [14, 0.4]\n",
    "pgf = lambda s: fwd.binomial_pgf(s, theta)\n",
    "\n",
    "k = 10\n",
    "x = 3\n",
    "\n",
    "a = gd.GDual(x, q=k, as_log=False)\n",
    "\n",
    "# print(a.coefs)\n",
    "\n",
    "b = pgf(a)\n",
    "\n",
    "# print(b.coefs)"
   ]
  },
  {
   "cell_type": "code",
   "execution_count": null,
   "metadata": {},
   "outputs": [],
   "source": [
    "c = np.arange(k+1)\n",
    "d = np.array(list(map(lambda i: 1./factorial(i), c)))\n",
    "\n",
    "print(d)"
   ]
  },
  {
   "cell_type": "code",
   "execution_count": null,
   "metadata": {},
   "outputs": [],
   "source": [
    "s = x\n",
    "lmbda = b.coefs[-1]\n",
    "\n",
    "print(lmbda)\n",
    "\n",
    "f = np.array(list(map(lambda i: (s - x) ** i, c)))\n",
    "\n",
    "print(f)\n",
    "\n",
    "g = b.coefs * d * f\n",
    "\n",
    "# print(g)"
   ]
  },
  {
   "cell_type": "code",
   "execution_count": null,
   "metadata": {},
   "outputs": [],
   "source": [
    "print(d * f)\n",
    "\n",
    "R = lmbda * (np.exp(s - x) - (np.sum(d * f)))\n",
    "\n",
    "print(np.exp(s - 1))\n",
    "print(np.sum(d*f))\n",
    "print(R)\n",
    "\n",
    "Z = np.sum(g) + R"
   ]
  },
  {
   "cell_type": "code",
   "execution_count": null,
   "metadata": {},
   "outputs": [],
   "source": [
    "print(pgf(s))\n",
    "print(Z)"
   ]
  },
  {
   "cell_type": "code",
   "execution_count": null,
   "metadata": {},
   "outputs": [],
   "source": [
    "a.coefs"
   ]
  },
  {
   "cell_type": "code",
   "execution_count": null,
   "metadata": {},
   "outputs": [],
   "source": [
    "b.coefs * d * f"
   ]
  },
  {
   "cell_type": "code",
   "execution_count": null,
   "metadata": {
    "collapsed": true
   },
   "outputs": [],
   "source": []
  }
 ],
 "metadata": {
  "kernelspec": {
   "display_name": "Python 3",
   "language": "python",
   "name": "python3"
  },
  "language_info": {
   "codemirror_mode": {
    "name": "ipython",
    "version": 3
   },
   "file_extension": ".py",
   "mimetype": "text/x-python",
   "name": "python",
   "nbconvert_exporter": "python",
   "pygments_lexer": "ipython3",
   "version": "3.6.3"
  }
 },
 "nbformat": 4,
 "nbformat_minor": 2
}
