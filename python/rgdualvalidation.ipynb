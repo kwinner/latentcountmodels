{
 "cells": [
  {
   "cell_type": "code",
   "execution_count": 1,
   "metadata": {},
   "outputs": [],
   "source": [
    "import numpy as np\n",
    "import forward as fwd\n",
    "import truncatedfa as trfwd\n",
    "import os\n",
    "import pandas as pd\n",
    "import re\n",
    "from scipy import stats"
   ]
  },
  {
   "cell_type": "code",
   "execution_count": 4,
   "metadata": {
    "collapsed": true
   },
   "outputs": [],
   "source": [
    "# result_dir = '/Users/kwinner/Work/Data/Results/2018-08-14 20:23:31.654124 \"latentcounts\"'\n",
    "result_dir = '/Users/kwinner/Work/Data/Results/2018-09-04 11:48:47.693671 \"latentcounts\"'"
   ]
  },
  {
   "cell_type": "code",
   "execution_count": 5,
   "metadata": {
    "collapsed": true
   },
   "outputs": [],
   "source": [
    "def load_results(result_dir):\n",
    "    result_filename = os.path.join(result_dir, 'results.df')\n",
    "\n",
    "    results = pd.read_table(result_filename, sep=' ')\n",
    "\n",
    "    return(results)\n",
    "\n",
    "results = load_results(result_dir)"
   ]
  },
  {
   "cell_type": "code",
   "execution_count": 6,
   "metadata": {
    "collapsed": true
   },
   "outputs": [],
   "source": [
    "def str2mat(str):\n",
    "    # remove leading/trailing brackets\n",
    "    str = re.search('(?=\\\\[*)[^\\\\[].*[^\\\\]](?=\\\\]*)', str).group(0)\n",
    "\n",
    "    if '];[' in str: # 2D array\n",
    "        # convert to numeric list\n",
    "        mat = np.array([[float(i) for i in row.split(',')] for row in str.split('];[')])\n",
    "    else:\n",
    "        mat = np.array([float(i) for i in str.split(',')])\n",
    "\n",
    "    return(mat)"
   ]
  },
  {
   "cell_type": "code",
   "execution_count": 26,
   "metadata": {},
   "outputs": [],
   "source": [
    "y = str2mat(results.y[1])"
   ]
  },
  {
   "cell_type": "code",
   "execution_count": 8,
   "metadata": {},
   "outputs": [
    {
     "data": {
      "text/plain": [
       "Index(['rho.gen', 'method', 'rt', 'nll', 'n.iters', 'fit.lambda', 'fit.gamma',\n",
       "       'fit.rho', 'fit.iota', 'x.lambda', 'x.gamma', 'x.rho', 'x.iota', 'y',\n",
       "       'K', 'n.attempts'],\n",
       "      dtype='object')"
      ]
     },
     "execution_count": 8,
     "metadata": {},
     "output_type": "execute_result"
    }
   ],
   "source": [
    "results.columns"
   ]
  },
  {
   "cell_type": "code",
   "execution_count": 43,
   "metadata": {},
   "outputs": [
    {
     "name": "stdout",
     "output_type": "stream",
     "text": [
      "[[ 1.52242452]\n",
      " [ 0.77424081]\n",
      " [ 0.77424081]\n",
      " [ 0.77424081]\n",
      " [ 0.77424081]]\n",
      "[[ 0.60443202]\n",
      " [ 0.60443202]\n",
      " [ 0.60443202]\n",
      " [ 0.60443202]]\n",
      "[ 0.9991021  0.9991021  0.9991021  0.9991021  0.9991021]\n"
     ]
    }
   ],
   "source": [
    "x = np.array(results.loc[1,'fit.lambda':'fit.iota'], np.float64)\n",
    "\n",
    "lmbda = np.concatenate((np.array([results.loc[1,'fit.lambda']]), results.loc[1, 'fit.iota'] * np.ones(y.shape[1] - 1))).reshape((-1,1))\n",
    "delta = results.loc[1, 'fit.gamma'] * np.ones(y.shape[1] - 1).reshape((-1,1))\n",
    "rho = results.loc[1, 'fit.rho'] * np.ones(y.shape[1])\n",
    "\n",
    "print(lmbda)\n",
    "print(delta)\n",
    "print(rho)"
   ]
  },
  {
   "cell_type": "code",
   "execution_count": 41,
   "metadata": {
    "collapsed": true
   },
   "outputs": [],
   "source": [
    "arrival_dist = stats.poisson\n",
    "# branching_fn = trfwd.binomial_branching\n",
    "branching_fn = trfwd.poisson_branching"
   ]
  },
  {
   "cell_type": "code",
   "execution_count": 47,
   "metadata": {},
   "outputs": [
    {
     "name": "stdout",
     "output_type": "stream",
     "text": [
      "Warning: truncating negative transition probabilities to zero\n",
      "Warning: truncating negative transition probabilities to zero\n",
      "Warning: truncating negative transition probabilities to zero\n",
      "Warning: truncating negative transition probabilities to zero\n",
      "Warning: truncating negative transition probabilities to zero\n",
      "Warning: truncating negative transition probabilities to zero\n",
      "Warning: truncating negative transition probabilities to zero\n",
      "Warning: truncating negative transition probabilities to zero\n",
      "-15.3775234738\n"
     ]
    }
   ],
   "source": [
    "alpha, logz = trfwd.truncated_forward(arrival_dist, lmbda, branching_fn, delta, rho, y[0,], 100)\n",
    "alpha, logz2 = trfwd.truncated_forward(arrival_dist, lmbda, branching_fn, delta, rho, y[1,], 100)\n",
    "print(logz + logz2)"
   ]
  },
  {
   "cell_type": "code",
   "execution_count": 38,
   "metadata": {},
   "outputs": [
    {
     "data": {
      "text/plain": [
       "array([[ 3.,  3.,  2.,  4.,  4.],\n",
       "       [ 1.,  1.,  2.,  1.,  0.]])"
      ]
     },
     "execution_count": 38,
     "metadata": {},
     "output_type": "execute_result"
    }
   ],
   "source": [
    "y"
   ]
  },
  {
   "cell_type": "code",
   "execution_count": 39,
   "metadata": {},
   "outputs": [
    {
     "data": {
      "text/plain": [
       "array([ 3.,  3.,  2.,  4.,  4.])"
      ]
     },
     "execution_count": 39,
     "metadata": {},
     "output_type": "execute_result"
    }
   ],
   "source": [
    "y[0,]"
   ]
  },
  {
   "cell_type": "code",
   "execution_count": null,
   "metadata": {
    "collapsed": true
   },
   "outputs": [],
   "source": []
  }
 ],
 "metadata": {
  "kernelspec": {
   "display_name": "Python 3",
   "language": "python",
   "name": "python3"
  },
  "language_info": {
   "codemirror_mode": {
    "name": "ipython",
    "version": 3
   },
   "file_extension": ".py",
   "mimetype": "text/x-python",
   "name": "python",
   "nbconvert_exporter": "python",
   "pygments_lexer": "ipython3",
   "version": "3.6.3"
  }
 },
 "nbformat": 4,
 "nbformat_minor": 2
}
