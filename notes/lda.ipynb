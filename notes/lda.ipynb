{
 "cells": [
  {
   "cell_type": "markdown",
   "metadata": {},
   "source": [
    "# PGF for LDA"
   ]
  },
  {
   "cell_type": "code",
   "execution_count": 1,
   "metadata": {
    "collapsed": false
   },
   "outputs": [],
   "source": [
    "import algopy\n",
    "from algopy import UTPM\n",
    "\n",
    "import numpy as np\n",
    "import numpy.random as rn\n",
    "\n",
    "from pyaudi import gdual_double as gdual\n",
    "from pyaudi import exp, log\n",
    "\n",
    "from scipy.stats import binom, multinomial, nbinom\n",
    "from scipy.misc import factorial"
   ]
  },
  {
   "cell_type": "markdown",
   "metadata": {},
   "source": [
    "### Define dummy data"
   ]
  },
  {
   "cell_type": "code",
   "execution_count": 2,
   "metadata": {
    "collapsed": false
   },
   "outputs": [],
   "source": [
    "# phi = np.array([[0.1, 0.8, 0.1], [0.5, 0.2, 0.3]]) # distribution over words\n",
    "# theta = np.array([0.3, 0.7])                       # distribution over topics\n",
    "# K, V = phi.shape      # K = number of topics, V = size of vocab\n",
    "# N = 4                 # number of tokens in a document\n",
    "\n",
    "N = 4   # number of tokens in a document\n",
    "K = 2   # number of topics\n",
    "V = 3   # number of unique word types\n",
    "\n",
    "concen1 = 0.1 # concentration param. for topics.  when 0 < alpha < 1\n",
    "              # topics are low entropy (i.e., peaked around a single val)\n",
    "              # when alpha > 1, topics are high entropy\n",
    "phi = rn.dirichlet(np.ones(V) * concen1, size=K)\n",
    "assert phi.shape == (K, V)\n",
    "\n",
    "concen2 = 1.  # concentration param. for document dist over topics\n",
    "theta = rn.dirichlet(np.ones(K) * concen2)\n",
    "assert theta.shape == (K,)"
   ]
  },
  {
   "cell_type": "markdown",
   "metadata": {},
   "source": [
    "### True single-word marginals\n",
    "Let $Y_v$ be the count of word type $w_v$ in a document, where $v$ is the word index. Compute the true $P(Y_v = y_v)$ for $y_v = 0, 1, .., N$."
   ]
  },
  {
   "cell_type": "code",
   "execution_count": 3,
   "metadata": {
    "collapsed": false
   },
   "outputs": [],
   "source": [
    "p = theta.dot(phi).reshape(V, 1)\n",
    "x = [range(N + 1) for _ in range(V)]\n",
    "true_marginals = binom.pmf(x, N, p) # shape = (V, N + 1)"
   ]
  },
  {
   "cell_type": "markdown",
   "metadata": {},
   "source": [
    "### PGF single-word marginals"
   ]
  },
  {
   "cell_type": "code",
   "execution_count": 4,
   "metadata": {
    "collapsed": false
   },
   "outputs": [
    {
     "name": "stdout",
     "output_type": "stream",
     "text": [
      "PGF marginal: 0.021432136181\n",
      "True marginal: 0.021432136181\n"
     ]
    }
   ],
   "source": [
    "def pgf_marginal(v, y_v, phi, theta): # Compute P(Y_v = y_v) = P(count(w_v) = y_v)\n",
    "    D = y_v + 1\n",
    "    u_v = UTPM(np.zeros((D, 1)))\n",
    "    if D > 1:\n",
    "        u_v.data[1, 0] = 1\n",
    "        \n",
    "    u = algopy.ones(V, dtype=u_v)\n",
    "    u[v] = u_v\n",
    "    t = phi.dot(u)\n",
    "    s = theta.dot(t)\n",
    "    h = np.power(s, N)\n",
    "    return h.data[:, 0][y_v]\n",
    "\n",
    "# Oberve 3 tokens of word type w_0\n",
    "y_v, v = 3, 0\n",
    "print 'PGF marginal:', pgf_marginal(v, y_v, phi, theta)\n",
    "print 'True marginal:', true_marginals[0, 3]"
   ]
  },
  {
   "cell_type": "markdown",
   "metadata": {},
   "source": [
    "Observe a document of length $N$ with word counts $y = [y_0, ..., y_V]$, where $\\sum_{i=0}^V y_i = N$. Find the **single-word** marginal probabilities."
   ]
  },
  {
   "cell_type": "code",
   "execution_count": 5,
   "metadata": {
    "collapsed": false
   },
   "outputs": [
    {
     "name": "stdout",
     "output_type": "stream",
     "text": [
      "PGF marginals: [0.13928347000994659, 0.021433712715387594, 1.9924846367143468e-05]\n",
      "True marginals: [  1.39283470e-01   2.14337127e-02   1.99248464e-05]\n"
     ]
    }
   ],
   "source": [
    "def pgf_marginals(y, phi, theta): # Compute [P(Y_0 = y[0]), ..., P(Y_V = y[V])]\n",
    "    D = np.max(y) + 1\n",
    "    u_v = UTPM(np.zeros((D, 1)))\n",
    "    if D > 1:\n",
    "        u_v.data[1, :] = 1\n",
    "    \n",
    "    u = algopy.ones((V, V), dtype=u_v)\n",
    "    np.fill_diagonal(u, u_v)\n",
    "    t = phi.dot(u)\n",
    "    s = theta.dot(t)\n",
    "    h = np.power(s, N)\n",
    "    return [h_v.data[:, 0][y[i]] for i, h_v in enumerate(h)]\n",
    "\n",
    "# Observe 2 tokens of w_0, 1 token of w_1, and 1 token of w_2\n",
    "y = np.array([2, 1, 1])\n",
    "print 'PGF marginals:', pgf_marginals(y, phi, theta)\n",
    "print 'True marginals:', true_marginals[np.arange(V), y]"
   ]
  },
  {
   "cell_type": "code",
   "execution_count": 6,
   "metadata": {
    "collapsed": false
   },
   "outputs": [
    {
     "name": "stdout",
     "output_type": "stream",
     "text": [
      "PGF marginals: [0.40230106072002236, 0.0012368264207843441, 4.944043330748893e-16]\n",
      "True marginals: [  4.02301061e-01   1.23682642e-03   4.94404333e-16]\n"
     ]
    }
   ],
   "source": [
    "# Observe 1 w_0, 0 w_1, and 3 w_2's\n",
    "y = np.array([1, 0, 3])\n",
    "print 'PGF marginals:', pgf_marginals(y, phi, theta)\n",
    "print 'True marginals:', true_marginals[np.arange(V), y]"
   ]
  },
  {
   "cell_type": "code",
   "execution_count": 7,
   "metadata": {
    "collapsed": false
   },
   "outputs": [
    {
     "name": "stdout",
     "output_type": "stream",
     "text": [
      "PGF marginals: [0.4357466380743994, 0.43573595188145658, 0.99998007500475483]\n",
      "True marginals: [ 0.43574664  0.43573595  0.99998008]\n"
     ]
    }
   ],
   "source": [
    "# Observe 0 w_0, 4 w_1's, and 0 w_2\n",
    "y = np.array([0, 4, 0])\n",
    "print 'PGF marginals:', pgf_marginals(y, phi, theta)\n",
    "print 'True marginals:', true_marginals[np.arange(V), y]"
   ]
  },
  {
   "cell_type": "markdown",
   "metadata": {},
   "source": [
    "### PGF joint marginals"
   ]
  },
  {
   "cell_type": "code",
   "execution_count": 8,
   "metadata": {
    "collapsed": false
   },
   "outputs": [
    {
     "name": "stdout",
     "output_type": "stream",
     "text": [
      "PGF marginal: 4.53665451709e-11\n",
      "True marginal: 4.53665451699e-11\n"
     ]
    }
   ],
   "source": [
    "def pgf_joint_marginal(v, w, y_v, y_w, phi, theta): # Compute P(Y_v = y_v, Y_w = y_w)\n",
    "    # Init gdual objects\n",
    "    order = y_v + y_w\n",
    "    u_v = gdual(0, \"v\", order)\n",
    "    u_w = gdual(0, \"w\", order)\n",
    "    \n",
    "    K, V = phi.shape\n",
    "    u = [1] * V\n",
    "    u[v] = u_v\n",
    "    u[w] = u_w\n",
    "    \n",
    "    t = phi.dot(u)\n",
    "    s = theta.dot(t)\n",
    "    h = np.power(s, N)\n",
    "    \n",
    "    # Evaluate the derivative\n",
    "    return h.get_derivative([y_v, y_w])/(factorial(y_v) * factorial(y_w))\n",
    "\n",
    "y_v, v = 1, 0 # 1 count of word 0\n",
    "y_w, w = 2, 2 # 2 counts of word 2\n",
    "print 'PGF marginal:', pgf_joint_marginal(v, w, y_v, y_w, phi, theta)\n",
    "print 'True marginal:', multinomial.pmf([y_v, N-(y_v+y_w), y_w], n=N, p=p.reshape(-1))"
   ]
  },
  {
   "cell_type": "markdown",
   "metadata": {
    "collapsed": true
   },
   "source": [
    "## With growth"
   ]
  },
  {
   "cell_type": "markdown",
   "metadata": {},
   "source": [
    "Add growth:\n",
    "- $n = $ number of tokens in the document (observed)\n",
    "- $m = \\sum_{i=1}^n x_i$, where $x_i \\sim log(\\rho)$\n",
    "- $\\mathbf{y} \\sim mult(m, \\boldsymbol{\\theta}^T \\mathbf{\\Phi})$"
   ]
  },
  {
   "cell_type": "code",
   "execution_count": 9,
   "metadata": {
    "collapsed": false
   },
   "outputs": [
    {
     "name": "stdout",
     "output_type": "stream",
     "text": [
      "PGF marginal: 0.0410764887247\n"
     ]
    }
   ],
   "source": [
    "rho = 0.3 # growth parameter\n",
    "def pgf_marginal_growth(v, y_v, phi, theta, rho): # Compute P(Y_v = y_v) = P(count(w_v) = y_v)\n",
    "    D = y_v + 1\n",
    "    u_v = UTPM(np.zeros((D, 1)))\n",
    "    if D > 1:\n",
    "        u_v.data[1, 0] = 1\n",
    "        \n",
    "    u = algopy.ones(V, dtype=u_v)\n",
    "    u[v] = u_v\n",
    "    t = phi.dot(u)\n",
    "    s = theta.dot(t)\n",
    "    r = np.log(1 - rho*s) / np.log(1 - rho)\n",
    "    h = np.power(r, N)\n",
    "    return h.data[:, 0][y_v]\n",
    "\n",
    "# Oberve 3 tokens of word type w_0\n",
    "y_v, v = 3, 0\n",
    "print 'PGF marginal:', pgf_marginal_growth(v, y_v, phi, theta, rho)\n",
    "#print 'True marginal:', true_marginals[0, 3]"
   ]
  },
  {
   "cell_type": "code",
   "execution_count": 10,
   "metadata": {
    "collapsed": false
   },
   "outputs": [
    {
     "name": "stdout",
     "output_type": "stream",
     "text": [
      "PGF marginals: [0.041076488724737362, 0.012393070063306142, 2.3941059119496452e-05]\n"
     ]
    }
   ],
   "source": [
    "def pgf_marginals_growth(y, phi, theta, rho): # Compute [P(Y_0 = y[0]), ..., P(Y_V = y[V])]\n",
    "    D = np.max(y) + 1\n",
    "    u_v = UTPM(np.zeros((D, 1)))\n",
    "    if D > 1:\n",
    "        u_v.data[1, :] = 1\n",
    "    \n",
    "    u = algopy.ones((V, V), dtype=u_v)\n",
    "    np.fill_diagonal(u, u_v)\n",
    "    t = phi.dot(u)\n",
    "    s = theta.dot(t)\n",
    "    r = np.log(1 - rho*s) / np.log(1 - rho)\n",
    "    h = np.power(r, N)\n",
    "    return [h_v.data[:, 0][y[i]] for i, h_v in enumerate(h)]\n",
    "\n",
    "# Observe 3 tokens of w_0, 1 token of w_1, and 1 token of w_2\n",
    "y = np.array([3, 1, 1])\n",
    "print 'PGF marginals:', pgf_marginals_growth(y, phi, theta, rho)"
   ]
  },
  {
   "cell_type": "markdown",
   "metadata": {
    "collapsed": true
   },
   "source": [
    "## NB LDA"
   ]
  },
  {
   "cell_type": "code",
   "execution_count": 11,
   "metadata": {
    "collapsed": false
   },
   "outputs": [],
   "source": [
    "a = 1    # shape parameter of theta_k\n",
    "b = 0.5  # rate parameter of theta_k\n",
    "phi_special = np.full((K, V), 1.0/V) # special case where distribution over word types is uniform"
   ]
  },
  {
   "cell_type": "markdown",
   "metadata": {},
   "source": [
    "### Single-word marginals"
   ]
  },
  {
   "cell_type": "code",
   "execution_count": 12,
   "metadata": {
    "collapsed": false
   },
   "outputs": [
    {
     "name": "stdout",
     "output_type": "stream",
     "text": [
      "PGF marginal: 0.09216\n",
      "True marginal: 0.09216\n",
      "PGF marginal: 0.107667581816\n",
      "True marginal: 0.107667581816\n"
     ]
    }
   ],
   "source": [
    "def log_pgf(s, p):\n",
    "    tmp = np.array([log(1 - p*s_k) for s_k in list(s)]) # b/c log(1-p*s) doesn't work\n",
    "    return tmp / np.log(1 - p)\n",
    "\n",
    "def pgf_marginal_nb(v, y_v, phi, a, b): # Compute P(Y_v = y_v)\n",
    "    order = y_v\n",
    "    K, V = phi.shape\n",
    "    \n",
    "    # Init gdual object\n",
    "    u = [1] * V\n",
    "    u_v = gdual(0, \"v\", order)\n",
    "    u[v] = u_v\n",
    "    \n",
    "    # Compute the joint PGF\n",
    "    t = phi.dot(u)\n",
    "    s = log_pgf(t, 1.0 / (1+b))\n",
    "    h = exp(a * (np.sum(s) - K) * np.log(1 + (1.0/b)))\n",
    "    \n",
    "    # Evaluate the derivative\n",
    "    return h.get_derivative([y_v])/factorial(y_v)\n",
    "\n",
    "def true_marginal_nb(v, y_v, phi, a, b): # only works for K = 2\n",
    "    phi_v = phi[:, v].reshape((-1, 1))\n",
    "    p1, p2 = nbinom.pmf([range(y_v + 1)] * 2, a, 1 - (phi_v/(b+phi_v)))\n",
    "    return np.convolve(p1, p2)[y_v]\n",
    "\n",
    "y_v, v = 3, 0\n",
    "\n",
    "# Special case\n",
    "print 'PGF marginal:', pgf_marginal_nb(v, y_v, phi_special, a, b)\n",
    "print 'True marginal:', nbinom.pmf(y_v, K*a, 1 - (1.0 / (V*b + 1)))\n",
    "\n",
    "# General case\n",
    "print 'PGF marginal:', pgf_marginal_nb(v, y_v, phi, a, b)\n",
    "print 'True marginal:', true_marginal_nb(v, y_v, phi, a, b)"
   ]
  },
  {
   "cell_type": "markdown",
   "metadata": {},
   "source": [
    "### Joint marginals"
   ]
  },
  {
   "cell_type": "code",
   "execution_count": 13,
   "metadata": {
    "collapsed": false
   },
   "outputs": [
    {
     "name": "stdout",
     "output_type": "stream",
     "text": [
      "PGF marginal: 0.051407151782\n"
     ]
    }
   ],
   "source": [
    "def pgf_joint_marginal_nb(v, w, y_v, y_w, phi, a, b): # Compute P(Y_v = y_v, Y_w = y_w)\n",
    "    order = y_v + y_w\n",
    "    K, V = phi.shape\n",
    "    \n",
    "    # Init gdual objects\n",
    "    u = [1] * V\n",
    "    u[v] = gdual(0, \"v\", order)\n",
    "    u[w] = gdual(0, \"w\", order)\n",
    "    \n",
    "    # Compute the joint PGF\n",
    "    t = phi.dot(u)\n",
    "    s = log_pgf(t, 1.0 / (1+b))\n",
    "    h = exp(a * (np.sum(s) - K) * np.log(1 + (1.0/b)))\n",
    "    \n",
    "    # Evaluate the derivative\n",
    "    return h.get_derivative([y_v, y_w])/(factorial(y_v) * factorial(y_w))\n",
    "\n",
    "y_v, v = 1, 0 # 1 count of word 0\n",
    "y_w, w = 2, 2 # 2 counts of word 2\n",
    "print 'PGF marginal:', pgf_joint_marginal_nb(v, w, y_v, y_w, phi_special, a, b)"
   ]
  },
  {
   "cell_type": "code",
   "execution_count": null,
   "metadata": {
    "collapsed": true
   },
   "outputs": [],
   "source": []
  }
 ],
 "metadata": {
  "anaconda-cloud": {},
  "kernelspec": {
   "display_name": "Python [Root]",
   "language": "python",
   "name": "Python [Root]"
  },
  "language_info": {
   "codemirror_mode": {
    "name": "ipython",
    "version": 2
   },
   "file_extension": ".py",
   "mimetype": "text/x-python",
   "name": "python",
   "nbconvert_exporter": "python",
   "pygments_lexer": "ipython2",
   "version": "2.7.12"
  }
 },
 "nbformat": 4,
 "nbformat_minor": 0
}
