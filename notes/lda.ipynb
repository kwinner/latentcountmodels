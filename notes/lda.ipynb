{
 "cells": [
  {
   "cell_type": "markdown",
   "metadata": {},
   "source": [
    "# PGF for LDA"
   ]
  },
  {
   "cell_type": "code",
   "execution_count": 1,
   "metadata": {
    "collapsed": false
   },
   "outputs": [],
   "source": [
    "import algopy\n",
    "from algopy import UTPM\n",
    "\n",
    "import numpy as np\n",
    "import numpy.random as rn\n",
    "\n",
    "import pyaudi\n",
    "from pyaudi import gdual_double as gdual\n",
    "\n",
    "from scipy.stats import binom, multinomial, nbinom, poisson, gamma\n",
    "from scipy.misc import factorial"
   ]
  },
  {
   "cell_type": "markdown",
   "metadata": {},
   "source": [
    "### Define dummy data"
   ]
  },
  {
   "cell_type": "code",
   "execution_count": 2,
   "metadata": {
    "collapsed": false
   },
   "outputs": [],
   "source": [
    "# phi = np.array([[0.1, 0.8, 0.1], [0.5, 0.2, 0.3]]) # distribution over words\n",
    "# theta = np.array([0.3, 0.7])                       # distribution over topics\n",
    "# K, V = phi.shape      # K = number of topics, V = size of vocab\n",
    "# N = 4                 # number of tokens in a document\n",
    "\n",
    "N = 4   # number of tokens in a document\n",
    "K = 2   # number of topics\n",
    "V = 3   # number of unique word types\n",
    "\n",
    "concen1 = 0.1 # concentration param. for topics.  when 0 < alpha < 1\n",
    "              # topics are low entropy (i.e., peaked around a single val)\n",
    "              # when alpha > 1, topics are high entropy\n",
    "phi = rn.dirichlet(np.ones(V) * concen1, size=K)\n",
    "assert phi.shape == (K, V)\n",
    "\n",
    "concen2 = 1.  # concentration param. for document dist over topics\n",
    "theta = rn.dirichlet(np.ones(K) * concen2)\n",
    "assert theta.shape == (K,)"
   ]
  },
  {
   "cell_type": "markdown",
   "metadata": {},
   "source": [
    "### True single-word marginals\n",
    "Let $Y_v$ be the count of word type $w_v$ in a document, where $v$ is the word index. Compute the true $P(Y_v = y_v)$ for $y_v = 0, 1, .., N$."
   ]
  },
  {
   "cell_type": "code",
   "execution_count": 3,
   "metadata": {
    "collapsed": false
   },
   "outputs": [],
   "source": [
    "p = theta.dot(phi).reshape(V, 1)\n",
    "x = [range(N + 1) for _ in range(V)]\n",
    "true_marginals = binom.pmf(x, N, p) # shape = (V, N + 1)"
   ]
  },
  {
   "cell_type": "markdown",
   "metadata": {},
   "source": [
    "### PGF single-word marginals"
   ]
  },
  {
   "cell_type": "code",
   "execution_count": 4,
   "metadata": {
    "collapsed": false
   },
   "outputs": [
    {
     "name": "stdout",
     "output_type": "stream",
     "text": [
      "PGF marginal: 0.013610074011\n",
      "True marginal: 0.013610074011\n"
     ]
    }
   ],
   "source": [
    "def pgf_marginal(v, y_v, phi, theta): # Compute P(Y_v = y_v) = P(count(w_v) = y_v)\n",
    "    D = y_v + 1\n",
    "    u_v = UTPM(np.zeros((D, 1)))\n",
    "    if D > 1:\n",
    "        u_v.data[1, 0] = 1\n",
    "        \n",
    "    u = algopy.ones(V, dtype=u_v)\n",
    "    u[v] = u_v\n",
    "    \n",
    "    t = phi.dot(u)\n",
    "    s = theta.dot(t)\n",
    "    h = np.power(s, N)\n",
    "    return h.data[:, 0][y_v]\n",
    "\n",
    "# Oberve 3 tokens of word type w_0\n",
    "y_v, v = 3, 0\n",
    "print 'PGF marginal:', pgf_marginal(v, y_v, phi, theta)\n",
    "print 'True marginal:', true_marginals[0, 3]"
   ]
  },
  {
   "cell_type": "markdown",
   "metadata": {},
   "source": [
    "Observe a document of length $N$ with word counts $y = [y_0, ..., y_V]$, where $\\sum_{i=0}^V y_i = N$. Find the **single-word** marginal probabilities."
   ]
  },
  {
   "cell_type": "code",
   "execution_count": 5,
   "metadata": {
    "collapsed": false
   },
   "outputs": [
    {
     "name": "stdout",
     "output_type": "stream",
     "text": [
      "PGF marginals: [0.10768625211072375, 0.033325403389952588, 0.20171080757610418]\n",
      "True marginals: [ 0.10768625  0.0333254   0.20171081]\n"
     ]
    }
   ],
   "source": [
    "def pgf_marginals(y, phi, theta): # Compute [P(Y_0 = y[0]), ..., P(Y_V = y[V])]\n",
    "    D = np.max(y) + 1\n",
    "    u_v = UTPM(np.zeros((D, 1)))\n",
    "    if D > 1:\n",
    "        u_v.data[1, :] = 1\n",
    "    \n",
    "    u = algopy.ones((V, V), dtype=u_v)\n",
    "    np.fill_diagonal(u, u_v)\n",
    "    t = phi.dot(u)\n",
    "    s = theta.dot(t)\n",
    "    h = np.power(s, N)\n",
    "    return [h_v.data[:, 0][y[i]] for i, h_v in enumerate(h)]\n",
    "\n",
    "# Observe 2 tokens of w_0, 1 token of w_1, and 1 token of w_2\n",
    "y = np.array([2, 1, 1])\n",
    "print 'PGF marginals:', pgf_marginals(y, phi, theta)\n",
    "print 'True marginals:', true_marginals[np.arange(V), y]"
   ]
  },
  {
   "cell_type": "code",
   "execution_count": 6,
   "metadata": {
    "collapsed": false
   },
   "outputs": [
    {
     "name": "stdout",
     "output_type": "stream",
     "text": [
      "PGF marginals: [0.37868449125066855, 0.0023533241785814248, 0.00084784982471401509]\n",
      "True marginals: [ 0.37868449  0.00235332  0.00084785]\n"
     ]
    }
   ],
   "source": [
    "# Observe 1 w_0, 0 w_1, and 3 w_2's\n",
    "y = np.array([1, 0, 3])\n",
    "print 'PGF marginals:', pgf_marginals(y, phi, theta)\n",
    "print 'True marginals:', true_marginals[np.arange(V), y]"
   ]
  },
  {
   "cell_type": "code",
   "execution_count": 7,
   "metadata": {
    "collapsed": false
   },
   "outputs": [
    {
     "name": "stdout",
     "output_type": "stream",
     "text": [
      "PGF marginals: [0.49937413470731667, 0.36967188698036285, 0.77781138106727588]\n",
      "True marginals: [ 0.49937413  0.36967189  0.77781138]\n"
     ]
    }
   ],
   "source": [
    "# Observe 0 w_0, 4 w_1's, and 0 w_2\n",
    "y = np.array([0, 4, 0])\n",
    "print 'PGF marginals:', pgf_marginals(y, phi, theta)\n",
    "print 'True marginals:', true_marginals[np.arange(V), y]"
   ]
  },
  {
   "cell_type": "markdown",
   "metadata": {},
   "source": [
    "### PGF joint marginals"
   ]
  },
  {
   "cell_type": "code",
   "execution_count": 8,
   "metadata": {
    "collapsed": false
   },
   "outputs": [
    {
     "name": "stdout",
     "output_type": "stream",
     "text": [
      "PGF marginal: 0.00552790104739\n",
      "True marginal: 0.00552790104739\n"
     ]
    }
   ],
   "source": [
    "def pgf_joint_marginal(v, w, y_v, y_w, phi, theta): # Compute P(Y_v = y_v, Y_w = y_w)\n",
    "    # Init gdual objects\n",
    "    order = y_v + y_w\n",
    "    u_v = gdual(0, \"v\", order)\n",
    "    u_w = gdual(0, \"w\", order)\n",
    "    \n",
    "    K, V = phi.shape\n",
    "    u = [1] * V\n",
    "    u[v] = u_v\n",
    "    u[w] = u_w\n",
    "    \n",
    "    t = phi.dot(u)\n",
    "    s = theta.dot(t)\n",
    "    h = np.power(s, N)\n",
    "    \n",
    "    # Evaluate the derivative\n",
    "    return h.get_derivative([y_v, y_w])/(factorial(y_v) * factorial(y_w))\n",
    "\n",
    "def true_joint_marginal(v, w, y_v, y_w, N, p):\n",
    "    K, V = phi.shape\n",
    "    y = np.array([y_v, y_w, N-(y_v+y_w)]) if N-(y_v+y_w) > 0 else np.array([y_v, y_w])\n",
    "    p = np.array([p[v], p[w], 1-(p[v]+p[w])]) if N-(y_v+y_w) > 0 else np.array([p[v], p[w]])\n",
    "    return multinomial.pmf(y, n=N, p=p)\n",
    "\n",
    "y_v, v = 1, 0 # 1 count of word 0\n",
    "y_w, w = 2, 2 # 2 counts of word 2\n",
    "print 'PGF marginal:', pgf_joint_marginal(v, w, y_v, y_w, phi, theta)\n",
    "print 'True marginal:', true_joint_marginal(v, w, y_v, y_w, N, p.reshape(-1))"
   ]
  },
  {
   "cell_type": "markdown",
   "metadata": {},
   "source": [
    "Integrate out N, $N \\sim Poisson(\\lambda)$."
   ]
  },
  {
   "cell_type": "code",
   "execution_count": 9,
   "metadata": {
    "collapsed": false
   },
   "outputs": [
    {
     "name": "stdout",
     "output_type": "stream",
     "text": [
      "PGF marginal: 0.00112435301704\n",
      "True marginal: 0.00112435301704\n"
     ]
    }
   ],
   "source": [
    "def pgf_joint_marginal(v, w, y_v, y_w, phi, theta, lmbda): # Compute P(Y_v = y_v, Y_w = y_w)\n",
    "    # Init gdual objects\n",
    "    order = y_v + y_w\n",
    "    u_v = gdual(0, \"v\", order)\n",
    "    u_w = gdual(0, \"w\", order)\n",
    "    \n",
    "    K, V = phi.shape\n",
    "    u = [1] * V\n",
    "    u[v] = u_v\n",
    "    u[w] = u_w\n",
    "    \n",
    "    t = phi.dot(u)\n",
    "    s = theta.dot(t)\n",
    "    h = pyaudi.exp(lmbda * (s - 1))\n",
    "    \n",
    "    # Evaluate the derivative\n",
    "    return h.get_derivative([y_v, y_w])/(factorial(y_v) * factorial(y_w))\n",
    "\n",
    "y_v, v = 4, 0 # 1 count of word 0\n",
    "y_w, w = 0, 2 # 2 counts of word 2\n",
    "lmbda = 3\n",
    "print 'PGF marginal:', pgf_joint_marginal(v, w, y_v, y_w, phi, theta, lmbda)\n",
    "print 'True marginal:', np.prod(poisson.pmf([y_v, y_w], lmbda*np.dot(theta, phi)[[0, 2]]))"
   ]
  },
  {
   "cell_type": "markdown",
   "metadata": {},
   "source": [
    "Alogpy version."
   ]
  },
  {
   "cell_type": "code",
   "execution_count": 10,
   "metadata": {
    "collapsed": false
   },
   "outputs": [
    {
     "name": "stdout",
     "output_type": "stream",
     "text": [
      "PGF marginal: 0.00552790104739\n",
      "True marginal: 0.00552790104739\n"
     ]
    }
   ],
   "source": [
    "def pgf_joint_marginal_algopy(v, w, y_v, y_w, phi, theta):\n",
    "    \"\"\"\n",
    "    D = max order of differentiation + 1\n",
    "    P = # of directions\n",
    "    N = # of variables\n",
    "    \"\"\"\n",
    "    D = y_v + y_w + 1\n",
    "    P = 4 # (V + D - 2) choose D   \n",
    "    \n",
    "    # Init UTP objects\n",
    "    u = UTPM(np.zeros((D,P,V)))\n",
    "    u.data[0,:,1] = [1] * 4\n",
    "    u.data[1,0] = [3, 0, 0]\n",
    "    u.data[1,1] = [2, 0, 1]\n",
    "    u.data[1,2] = [1, 0, 2]\n",
    "    u.data[1,3] = [0, 0, 3]\n",
    "    \n",
    "    # Compute functions as usual\n",
    "    t = phi.dot(u)\n",
    "    s = theta.dot(t)\n",
    "    h = np.power(s, N)\n",
    "    \n",
    "    # Use polarization identity to recover the mixed partial derivative\n",
    "    c = h.data[-1]\n",
    "    res = ((2*c[0]/9 - c[1] + 2*c[2] - 5*c[3]/9) / 3) / (factorial(y_v) * factorial(y_w))\n",
    "    \n",
    "    return res\n",
    "\n",
    "# Test\n",
    "y_v, v = 1, 0 # 1 count of word 0\n",
    "y_w, w = 2, 2 # 2 counts of word 2\n",
    "print 'PGF marginal:', pgf_joint_marginal_algopy(v, w, y_v, y_w, phi, theta)\n",
    "print 'True marginal:', true_joint_marginal(v, w, y_v, y_w, N, p.reshape(-1))"
   ]
  },
  {
   "cell_type": "markdown",
   "metadata": {
    "collapsed": true
   },
   "source": [
    "## With growth\n",
    "Add growth:\n",
    "- $n = $ number of tokens in the document (observed)\n",
    "- $m = \\sum_{i=1}^n x_i$, where $x_i \\sim log(\\rho)$\n",
    "- $\\mathbf{y} \\sim mult(m, \\boldsymbol{\\theta}^T \\mathbf{\\Phi})$"
   ]
  },
  {
   "cell_type": "code",
   "execution_count": 11,
   "metadata": {
    "collapsed": false
   },
   "outputs": [
    {
     "name": "stdout",
     "output_type": "stream",
     "text": [
      "PGF marginal: 0.027480036634\n"
     ]
    }
   ],
   "source": [
    "rho = 0.3 # growth parameter\n",
    "def pgf_marginal_growth(v, y_v, phi, theta, rho): # Compute P(Y_v = y_v) = P(count(w_v) = y_v)\n",
    "    D = y_v + 1\n",
    "    u_v = UTPM(np.zeros((D, 1)))\n",
    "    if D > 1:\n",
    "        u_v.data[1, 0] = 1\n",
    "        \n",
    "    u = algopy.ones(V, dtype=u_v)\n",
    "    u[v] = u_v\n",
    "    t = phi.dot(u)\n",
    "    s = theta.dot(t)\n",
    "    r = np.log(1 - rho*s) / np.log(1 - rho)\n",
    "    h = np.power(r, N)\n",
    "    return h.data[:, 0][y_v]\n",
    "\n",
    "# Oberve 3 tokens of word type w_0\n",
    "y_v, v = 3, 0\n",
    "print 'PGF marginal:', pgf_marginal_growth(v, y_v, phi, theta, rho)\n",
    "#print 'True marginal:', true_marginals[0, 3]"
   ]
  },
  {
   "cell_type": "code",
   "execution_count": 12,
   "metadata": {
    "collapsed": false
   },
   "outputs": [
    {
     "name": "stdout",
     "output_type": "stream",
     "text": [
      "PGF marginals: [0.027480036634008973, 0.019775940563368573, 0.22775702779673998]\n"
     ]
    }
   ],
   "source": [
    "def pgf_marginals_growth(y, phi, theta, rho): # Compute [P(Y_0 = y[0]), ..., P(Y_V = y[V])]\n",
    "    D = np.max(y) + 1\n",
    "    u_v = UTPM(np.zeros((D, 1)))\n",
    "    if D > 1:\n",
    "        u_v.data[1, :] = 1\n",
    "    \n",
    "    u = algopy.ones((V, V), dtype=u_v)\n",
    "    np.fill_diagonal(u, u_v)\n",
    "    t = phi.dot(u)\n",
    "    s = theta.dot(t)\n",
    "    r = np.log(1 - rho*s) / np.log(1 - rho)\n",
    "    h = np.power(r, N)\n",
    "    return [h_v.data[:, 0][y[i]] for i, h_v in enumerate(h)]\n",
    "\n",
    "# Observe 3 tokens of w_0, 1 token of w_1, and 1 token of w_2\n",
    "y = np.array([3, 1, 1])\n",
    "print 'PGF marginals:', pgf_marginals_growth(y, phi, theta, rho)"
   ]
  },
  {
   "cell_type": "markdown",
   "metadata": {
    "collapsed": true
   },
   "source": [
    "## NB LDA"
   ]
  },
  {
   "cell_type": "code",
   "execution_count": 13,
   "metadata": {
    "collapsed": false
   },
   "outputs": [],
   "source": [
    "a = 1    # shape parameter of theta_k\n",
    "b = 0.5  # rate parameter of theta_k\n",
    "phi_special = np.full((K, V), 1.0/V) # special case where distribution over word types is uniform"
   ]
  },
  {
   "cell_type": "markdown",
   "metadata": {},
   "source": [
    "### Single-word marginals"
   ]
  },
  {
   "cell_type": "code",
   "execution_count": 14,
   "metadata": {
    "collapsed": false
   },
   "outputs": [
    {
     "name": "stdout",
     "output_type": "stream",
     "text": [
      "PGF marginal: 0.0221184\n",
      "True marginal: 0.0221184\n",
      "PGF marginal: 0.0438946818231\n",
      "True marginal: 0.0438946818231\n"
     ]
    }
   ],
   "source": [
    "def log_pgf(s, p):\n",
    "    tmp = np.array([pyaudi.log(1 - p*s_k) for s_k in list(s)]) # b/c log(1-p*s) doesn't work\n",
    "    return tmp / np.log(1 - p)\n",
    "\n",
    "def pgf_marginal_nb(v, y_v, phi, a, b): # Compute P(Y_v = y_v)\n",
    "    order = y_v\n",
    "    K, V = phi.shape\n",
    "    \n",
    "    # Init gdual object\n",
    "    u = [1] * V\n",
    "    u_v = gdual(0, \"v\", order)\n",
    "    u[v] = u_v\n",
    "    \n",
    "    # Compute the joint PGF\n",
    "    t = phi.dot(u)\n",
    "    s = log_pgf(t, 1.0 / (1+b))\n",
    "    h = pyaudi.exp(a * (np.sum(s) - K) * np.log(1 + (1.0/b)))\n",
    "    \n",
    "    # Evaluate the derivative\n",
    "    return h.get_derivative([y_v])/factorial(y_v)\n",
    "\n",
    "def true_marginal_nb(v, y_v, phi, a, b): # only works for K = 2\n",
    "    phi_v = phi[:, v].reshape((-1, 1))\n",
    "    p1, p2 = nbinom.pmf([range(y_v + 1)] * 2, a, 1 - (phi_v/(b+phi_v)))\n",
    "    return np.convolve(p1, p2)[y_v]\n",
    "\n",
    "y_v, v = 5, 1\n",
    "\n",
    "# Special case\n",
    "print 'PGF marginal:', pgf_marginal_nb(v, y_v, phi_special, a, b)\n",
    "print 'True marginal:', nbinom.pmf(y_v, K*a, 1 - (1.0 / (V*b + 1)))\n",
    "\n",
    "# General case\n",
    "print 'PGF marginal:', pgf_marginal_nb(v, y_v, phi, a, b)\n",
    "print 'True marginal:', true_marginal_nb(v, y_v, phi, a, b)"
   ]
  },
  {
   "cell_type": "markdown",
   "metadata": {},
   "source": [
    "### Joint marginals"
   ]
  },
  {
   "cell_type": "code",
   "execution_count": 15,
   "metadata": {
    "collapsed": false
   },
   "outputs": [
    {
     "name": "stdout",
     "output_type": "stream",
     "text": [
      "PGF marginal: 0.051407151782\n",
      "Sampled marginal: 0.0514123330424\n",
      "True marginal: 0.00764411904\n"
     ]
    }
   ],
   "source": [
    "def pgf_joint_marginal_nb(v, w, y_v, y_w, phi, a, b): # Compute P((Y_1, Y_2, Y_3) = y), assume V = 3\n",
    "    order = y_v + y_w\n",
    "    K, V = phi.shape\n",
    "    \n",
    "    # Init gdual objects\n",
    "    u = [1] * V\n",
    "    u[v] = gdual(0, \"v\", order)\n",
    "    u[w] = gdual(0, \"w\", order)\n",
    "    \n",
    "    # Compute the joint PGF\n",
    "    t = phi.dot(u)\n",
    "    s = log_pgf(t, 1.0 / (1+b))\n",
    "    h = pyaudi.exp(a * (np.sum(s) - K) * np.log(1 + (1.0/b)))\n",
    "    \n",
    "    # Evaluate the derivative\n",
    "    y = [y_v, y_w]\n",
    "    return h.get_derivative(y)/np.prod(factorial(y))\n",
    "\n",
    "def sampled_joint_marginal_nb(v, w, y_v, y_w, phi, a, b, n_samples = 1000000):\n",
    "    K, V = phi.shape\n",
    "    S = n_samples # number of samples\n",
    "    theta_hat = gamma.rvs(a, scale=1.0/b, size=(S, K))\n",
    "    \n",
    "    lmbda_hat = theta_hat.dot(phi)[:, [v, w]] # (S, 2)\n",
    "    probs = poisson.pmf(np.array([y_v, y_w]).reshape((1, 2)), lmbda_hat)\n",
    "    joint_probs = probs.prod(axis=1)\n",
    "    return joint_probs.mean()\n",
    "\n",
    "y_v, v = 1, 0 # 1 count of word 0\n",
    "y_w, w = 2, 2 # 2 counts of word 2\n",
    "print 'PGF marginal:', pgf_joint_marginal_nb(v, w, y_v, y_w, phi_special, a, b)\n",
    "print 'Sampled marginal:', sampled_joint_marginal_nb(v, w, y_v, y_w, phi_special, a, b)\n",
    "print 'True marginal:', np.prod(nbinom.pmf(y, K*a, 1 - (1.0 / (V*b + 1))))"
   ]
  },
  {
   "cell_type": "markdown",
   "metadata": {},
   "source": [
    "Use algopy."
   ]
  },
  {
   "cell_type": "code",
   "execution_count": 16,
   "metadata": {
    "collapsed": false
   },
   "outputs": [
    {
     "name": "stdout",
     "output_type": "stream",
     "text": [
      "PGF marginal pyaudi: 0.051407151782\n",
      "PGF marginal algopy: 0.051407151782\n",
      "Sampled marginal: 0.0513870331519\n",
      "True marginal: 0.0497664\n"
     ]
    }
   ],
   "source": [
    "from itertools import product\n",
    "from scipy.misc import comb\n",
    "\n",
    "def compute_gamma(i, j):\n",
    "    \"\"\"\n",
    "    i = order of differentiation for each variable (e.g. [1, 2])\n",
    "    j = direction vector\n",
    "    \"\"\"\n",
    "    i, j = np.array(i), np.array(j)\n",
    "    \n",
    "    if np.count_nonzero(j) > np.count_nonzero(i): return 0\n",
    "    \n",
    "    d = np.sum(j) # max total degree of differentiation of the UTP\n",
    "    ranges = [range(i0+1) for i0 in i]\n",
    "    ks = [k for k in product(*ranges)][1:]\n",
    "        \n",
    "    running_sum = 0\n",
    "    for k in ks:\n",
    "        k = np.array(k)\n",
    "        sign = (-1)**np.sum(i - k)\n",
    "        \n",
    "        f1 = np.prod(comb(i, k))\n",
    "        f2 = np.prod(comb(d*k/np.sum(k), j))\n",
    "        print comb(d*k/np.sum(k), j)\n",
    "        f3 = (float(np.sum(k))/d)**np.sum(i)\n",
    "        \n",
    "        term = sign*f1*f2*f3\n",
    "        print i, j, k, term\n",
    "        running_sum += term\n",
    "        \n",
    "    return running_sum\n",
    "\n",
    "def get_derivative_algopy(x, i, dirs):\n",
    "    \"\"\"\n",
    "    x    = a UTP object\n",
    "    i    = order of differentiation for each variable (e.g. [1, 2])\n",
    "    dirs = matrix of directions (in the same ordering as the directions of x)\n",
    "    \"\"\"\n",
    "    \n",
    "    order = np.sum(i) # total degree of differentiation\n",
    "    c = x.data[order] # dth Taylor coefficients from all directions\n",
    "    true_gammas = [2./27, -1./3, 2./3, -5./27]\n",
    "    \n",
    "    running_sum = 0\n",
    "    for j, c0, true_gamma in zip(dirs, c, true_gammas):\n",
    "        # j is a direction vector\n",
    "        \n",
    "        gamma = compute_gamma(i, j)\n",
    "        term = gamma*c0\n",
    "        print 'j, computed gamma_j, true gamma_j:', j, gamma, true_gamma\n",
    "        running_sum += term\n",
    "    \n",
    "    return running_sum\n",
    "\n",
    "def log_pgf_algopy(s, p):\n",
    "    return np.log(1-p*s) / np.log(1 - p)\n",
    "\n",
    "def pgf_joint_marginal_nb_algopy(v, w, y_v, y_w, phi, thetaa, b):\n",
    "    \"\"\"\n",
    "    D = max order of differentiation + 1\n",
    "    P = # of directions\n",
    "    N = # of variables\n",
    "    \"\"\"\n",
    "    K, V = phi.shape\n",
    "    D = y_v + y_w + 1\n",
    "    P = 4 # (V + D - 2) choose (D - 1)\n",
    "    \n",
    "    # Init UTP objects\n",
    "    u = UTPM(np.zeros((D,P,V)))\n",
    "    u.data[0,:,1] = [1] * 4\n",
    "    dirs = np.array([[3, 0, 0],\n",
    "                     [2, 0, 1],\n",
    "                     [1, 0, 2],\n",
    "                     [0, 0, 3]])\n",
    "    u.data[1] = dirs\n",
    "    \n",
    "    # Compute functions as usual\n",
    "    t = phi.dot(u)\n",
    "    s = log_pgf_algopy(t, 1.0 / (1+b))\n",
    "    lmbda = a * np.log(1 + (1.0/b))\n",
    "    h = np.exp(lmbda * (np.sum(s) - K))\n",
    "    \n",
    "    # Use polarization identity to recover the mixed partial derivative\n",
    "    c = h.data[-1]\n",
    "    \n",
    "    res = ((2*c[0]/9 - c[1] + 2*c[2] - 5*c[3]/9) / 3) \n",
    "    #res1 = get_derivative_algopy(h, [y_v, y_w], dirs[:, [0, 2]])\n",
    "    \n",
    "    #print res, res1\n",
    "    \n",
    "    return res / (factorial(y_v) * factorial(y_w))\n",
    "\n",
    "# Test\n",
    "y_v, v = 1, 0 # 1 count of word 0\n",
    "y_w, w = 2, 2 # 2 counts of word 2\n",
    "print 'PGF marginal pyaudi:', pgf_joint_marginal_nb(v, w, y_v, y_w, phi_special, a, b)\n",
    "print 'PGF marginal algopy:', pgf_joint_marginal_nb_algopy(v, w, y_v, y_w, phi_special, a, b)\n",
    "print 'Sampled marginal:', sampled_joint_marginal_nb(v, w, y_v, y_w, phi_special, a, b)\n",
    "print 'True marginal:', np.prod(nbinom.pmf([y_v, y_w], K*a, 1 - (1.0 / (V*b + 1))))"
   ]
  },
  {
   "cell_type": "markdown",
   "metadata": {},
   "source": [
    "### Deep NB LDA\n",
    "\n",
    "For d = 1 to D:\n",
    "- $l_k^{(0)} \\sim Poisson(a \\ln(1 + 1/b))$\n",
    "- $y_k^{(d)}|l_k^{(d-1)} \\sim SumLog(l_k^{(d-1)}, 1/(1 + b))$ (I think this is wrong for $d > 1$)\n",
    "- $\\{y_{kv}^{(d)}\\}_v \\sim Mult(y_k^{(d)}, \\{\\phi_{kv}^{(d)}\\}_v)$\n",
    "- $l_k^{(d)} = \\sum_k y_{kv}^{(d)}$\n",
    "- $y_v = l_k^{(D)}$"
   ]
  },
  {
   "cell_type": "code",
   "execution_count": 17,
   "metadata": {
    "collapsed": false
   },
   "outputs": [],
   "source": [
    "# D = 4\n",
    "K0, K1, K2, K3, V = 4, 4, 5, 5, 3\n",
    "phi1 = rn.dirichlet(np.ones(K1) * 0.8, size=K0) # (K0, K1)\n",
    "phi2 = rn.dirichlet(np.ones(K2) * 0.5, size=K1) # (K1, K2)\n",
    "phi3 = rn.dirichlet(np.ones(K3) * 0.2, size=K2) # (K2, K3)\n",
    "phi4 = rn.dirichlet(np.ones(V) * 0.1, size=K3) #(K3, V)\n",
    "\n",
    "phi_layer = [phi1, phi2, phi3, phi4]"
   ]
  },
  {
   "cell_type": "code",
   "execution_count": 18,
   "metadata": {
    "collapsed": false
   },
   "outputs": [
    {
     "name": "stdout",
     "output_type": "stream",
     "text": [
      "PGF marginal: 0.00497846202142\n"
     ]
    }
   ],
   "source": [
    "def pgf_marginal_deep(v, y_v, phi, a, b):\n",
    "    order = y_v\n",
    "    D = len(phi)\n",
    "    K0, _ = phi[0].shape\n",
    "    _, V = phi[-1].shape\n",
    "    \n",
    "    # Init gdual objects\n",
    "    s = [1] * V\n",
    "    s[v] = gdual(0, \"v\", order)\n",
    "    \n",
    "    # Compute the joint PGF\n",
    "    for d in range(D, 0, -1):\n",
    "        t = phi[d-1].dot(s)\n",
    "        s = log_pgf(t, 1.0/ (1+b))\n",
    "    h = pyaudi.exp(a * (np.sum(s) - K0) * np.log(1 + (1.0/b)))\n",
    "    \n",
    "    # Evaluate the derivative\n",
    "    return h.get_derivative([y_v])/factorial(y_v)\n",
    "\n",
    "v, y_v = 1, 60\n",
    "print 'PGF marginal:', pgf_marginal_deep(v, y_v, phi_layer, a, b)"
   ]
  },
  {
   "cell_type": "code",
   "execution_count": 19,
   "metadata": {
    "collapsed": false
   },
   "outputs": [
    {
     "name": "stdout",
     "output_type": "stream",
     "text": [
      "PGF marginal: 5.06906763491e-05\n"
     ]
    }
   ],
   "source": [
    "def pgf_joint_marginal_deep(y, phi, a, b):\n",
    "    order = np.sum(y)\n",
    "    D = len(phi)\n",
    "    K0, _ = phi[0].shape\n",
    "    _, V = phi[-1].shape\n",
    "    \n",
    "    # Init gdual objects\n",
    "    s = [gdual(0, \"v\", order), gdual(0, \"w\", order), gdual(0, 'x', order)]\n",
    "    \n",
    "    # Compute the joint PGF\n",
    "    for d in range(D, 0, -1):\n",
    "        t = phi[d-1].dot(s)\n",
    "        s = log_pgf(t, 1.0/ (1+b))\n",
    "    h = pyaudi.exp(a * (np.sum(s) - K0) * np.log(1 + (1.0/b)))\n",
    "    \n",
    "    # Evaluate the derivative\n",
    "    return h.get_derivative(y)/np.prod(factorial(y))\n",
    "\n",
    "y = np.array([5, 20, 10])\n",
    "print 'PGF marginal:', pgf_joint_marginal_deep(y, phi_layer, a, b)"
   ]
  },
  {
   "cell_type": "code",
   "execution_count": null,
   "metadata": {
    "collapsed": true
   },
   "outputs": [],
   "source": []
  }
 ],
 "metadata": {
  "anaconda-cloud": {},
  "kernelspec": {
   "display_name": "Python [Root]",
   "language": "python",
   "name": "Python [Root]"
  },
  "language_info": {
   "codemirror_mode": {
    "name": "ipython",
    "version": 2
   },
   "file_extension": ".py",
   "mimetype": "text/x-python",
   "name": "python",
   "nbconvert_exporter": "python",
   "pygments_lexer": "ipython2",
   "version": "2.7.12"
  }
 },
 "nbformat": 4,
 "nbformat_minor": 0
}
